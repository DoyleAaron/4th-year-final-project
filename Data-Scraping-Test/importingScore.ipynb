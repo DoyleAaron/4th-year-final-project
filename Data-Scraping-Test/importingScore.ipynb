{
 "cells": [
  {
   "cell_type": "code",
   "execution_count": 3,
   "id": "ed44aa8f",
   "metadata": {},
   "outputs": [],
   "source": [
    "import pandas as pd\n",
    "from sklearn.preprocessing import StandardScaler\n",
    "import numpy as np\n",
    "\n",
    "# Load your player dataset\n",
    "df = pd.read_csv(\"24_25_prem_player_stats_clean.csv\")\n",
    "\n",
    "# Calculate score column\n",
    "df['score'] = (\n",
    "    0.35 * df['xG.1'] +\n",
    "    0.30 * df['Gls.1'] +\n",
    "    0.20 * df['npxG+xAG.1'] +\n",
    "    0.15 * df['xAG.1']\n",
    ")\n",
    "\n",
    "# Handle 0s or negative values before log1p\n",
    "df['score'] = df['score'].apply(lambda x: max(x, 0))\n",
    "\n",
    "# Log-transform the score\n",
    "df['log_score'] = np.log1p(df['score'])\n",
    "\n",
    "# Standard scale the log-transformed score\n",
    "scaler = StandardScaler()\n",
    "df['scaled_score'] = scaler.fit_transform(df[['log_score']]).round(2)\n",
    "\n",
    "# Export the Player + scaled_score\n",
    "df[['Player', 'scaled_score']].to_csv(\"scaled_scores.csv\", index=False)\n"
   ]
  }
 ],
 "metadata": {
  "kernelspec": {
   "display_name": "Python 3",
   "language": "python",
   "name": "python3"
  },
  "language_info": {
   "codemirror_mode": {
    "name": "ipython",
    "version": 3
   },
   "file_extension": ".py",
   "mimetype": "text/x-python",
   "name": "python",
   "nbconvert_exporter": "python",
   "pygments_lexer": "ipython3",
   "version": "3.11.6"
  }
 },
 "nbformat": 4,
 "nbformat_minor": 5
}
