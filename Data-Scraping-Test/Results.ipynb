{
 "cells": [
  {
   "cell_type": "markdown",
   "id": "0ec923aa",
   "metadata": {},
   "source": [
    "## Results Per Week\n",
    "- My aim is to be able to pull in the most recent weeks results so that I can use them for points calculation and the home screen.\n",
    "- This code was mostly written by ChatGPT, I was trying to read the docs of SoccerData but I really struggled figurin out how they worked and how i could get it to a csv so that I can then extract it to my db.\n",
    "\n",
    "- This works by getting all of the match data per team and then appending it to the csv\n",
    "- Unfortunately I havent been able to find a way to automate it yet so I have to do the 10 games manually"
   ]
  },
  {
   "cell_type": "code",
   "execution_count": 23,
   "id": "ad3dc102",
   "metadata": {},
   "outputs": [
    {
     "data": {
      "text/html": [
       "<pre style=\"white-space:pre;overflow-x:auto;line-height:normal;font-family:Menlo,'DejaVu Sans Mono',consolas,'Courier New',monospace\"><span style=\"color: #7fbfbf; text-decoration-color: #7fbfbf\">[04/23/25 17:38:52] </span><span style=\"color: #000080; text-decoration-color: #000080\">INFO    </span> Saving cached data to <span style=\"color: #800080; text-decoration-color: #800080\">/Users/aaron/soccerdata/data/</span><span style=\"color: #ff00ff; text-decoration-color: #ff00ff\">FBref</span>                <a href=\"file:///opt/homebrew/lib/python3.11/site-packages/soccerdata/_common.py\" target=\"_blank\"><span style=\"color: #7f7f7f; text-decoration-color: #7f7f7f\">_common.py</span></a><span style=\"color: #7f7f7f; text-decoration-color: #7f7f7f\">:</span><a href=\"file:///opt/homebrew/lib/python3.11/site-packages/soccerdata/_common.py#263\" target=\"_blank\"><span style=\"color: #7f7f7f; text-decoration-color: #7f7f7f\">263</span></a>\n",
       "</pre>\n"
      ],
      "text/plain": [
       "\u001b[2;36m[04/23/25 17:38:52]\u001b[0m\u001b[2;36m \u001b[0m\u001b[34mINFO    \u001b[0m Saving cached data to \u001b[35m/Users/aaron/soccerdata/data/\u001b[0m\u001b[95mFBref\u001b[0m                \u001b]8;id=584731;file:///opt/homebrew/lib/python3.11/site-packages/soccerdata/_common.py\u001b\\\u001b[2m_common.py\u001b[0m\u001b]8;;\u001b\\\u001b[2m:\u001b[0m\u001b]8;id=792571;file:///opt/homebrew/lib/python3.11/site-packages/soccerdata/_common.py#263\u001b\\\u001b[2m263\u001b[0m\u001b]8;;\u001b\\\n"
      ]
     },
     "metadata": {},
     "output_type": "display_data"
    },
    {
     "data": {
      "text/html": [
       "<pre style=\"white-space:pre;overflow-x:auto;line-height:normal;font-family:Menlo,'DejaVu Sans Mono',consolas,'Courier New',monospace\"><span style=\"color: #7fbfbf; text-decoration-color: #7fbfbf\">                    </span><span style=\"color: #800000; text-decoration-color: #800000\">WARNING </span> <span style=\"color: #800080; text-decoration-color: #800080\">/opt/homebrew/lib/python3.11/site-packages/soccerdata/</span><span style=\"color: #ff00ff; text-decoration-color: #ff00ff\">fbref.py</span>:<span style=\"color: #008080; text-decoration-color: #008080; font-weight: bold\">165</span>:    <a href=\"file:///opt/homebrew/Cellar/python@3.11/3.11.6_1/Frameworks/Python.framework/Versions/3.11/lib/python3.11/warnings.py\" target=\"_blank\"><span style=\"color: #7f7f7f; text-decoration-color: #7f7f7f\">warnings.py</span></a><span style=\"color: #7f7f7f; text-decoration-color: #7f7f7f\">:</span><a href=\"file:///opt/homebrew/Cellar/python@3.11/3.11.6_1/Frameworks/Python.framework/Versions/3.11/lib/python3.11/warnings.py#109\" target=\"_blank\"><span style=\"color: #7f7f7f; text-decoration-color: #7f7f7f\">109</span></a>\n",
       "<span style=\"color: #7fbfbf; text-decoration-color: #7fbfbf\">                    </span>         FutureWarning: The behavior of DataFrame concatenation with empty or   <span style=\"color: #7f7f7f; text-decoration-color: #7f7f7f\">               </span>\n",
       "<span style=\"color: #7fbfbf; text-decoration-color: #7fbfbf\">                    </span>         all-NA entries is deprecated. In a future version, this will no longer <span style=\"color: #7f7f7f; text-decoration-color: #7f7f7f\">               </span>\n",
       "<span style=\"color: #7fbfbf; text-decoration-color: #7fbfbf\">                    </span>         exclude empty or all-NA columns when determining the result dtypes. To <span style=\"color: #7f7f7f; text-decoration-color: #7f7f7f\">               </span>\n",
       "<span style=\"color: #7fbfbf; text-decoration-color: #7fbfbf\">                    </span>         retain the old behavior, exclude the relevant entries before the       <span style=\"color: #7f7f7f; text-decoration-color: #7f7f7f\">               </span>\n",
       "<span style=\"color: #7fbfbf; text-decoration-color: #7fbfbf\">                    </span>         concat operation.                                                      <span style=\"color: #7f7f7f; text-decoration-color: #7f7f7f\">               </span>\n",
       "<span style=\"color: #7fbfbf; text-decoration-color: #7fbfbf\">                    </span>           <span style=\"color: #800080; text-decoration-color: #800080; font-weight: bold\">pd.concat</span><span style=\"font-weight: bold\">(</span>dfs<span style=\"font-weight: bold\">)</span>                                                       <span style=\"color: #7f7f7f; text-decoration-color: #7f7f7f\">               </span>\n",
       "<span style=\"color: #7fbfbf; text-decoration-color: #7fbfbf\">                    </span>                                                                                <span style=\"color: #7f7f7f; text-decoration-color: #7f7f7f\">               </span>\n",
       "</pre>\n"
      ],
      "text/plain": [
       "\u001b[2;36m                   \u001b[0m\u001b[2;36m \u001b[0m\u001b[31mWARNING \u001b[0m \u001b[35m/opt/homebrew/lib/python3.11/site-packages/soccerdata/\u001b[0m\u001b[95mfbref.py\u001b[0m:\u001b[1;36m165\u001b[0m:    \u001b]8;id=78082;file:///opt/homebrew/Cellar/python@3.11/3.11.6_1/Frameworks/Python.framework/Versions/3.11/lib/python3.11/warnings.py\u001b\\\u001b[2mwarnings.py\u001b[0m\u001b]8;;\u001b\\\u001b[2m:\u001b[0m\u001b]8;id=110349;file:///opt/homebrew/Cellar/python@3.11/3.11.6_1/Frameworks/Python.framework/Versions/3.11/lib/python3.11/warnings.py#109\u001b\\\u001b[2m109\u001b[0m\u001b]8;;\u001b\\\n",
       "\u001b[2;36m                    \u001b[0m         FutureWarning: The behavior of DataFrame concatenation with empty or   \u001b[2m               \u001b[0m\n",
       "\u001b[2;36m                    \u001b[0m         all-NA entries is deprecated. In a future version, this will no longer \u001b[2m               \u001b[0m\n",
       "\u001b[2;36m                    \u001b[0m         exclude empty or all-NA columns when determining the result dtypes. To \u001b[2m               \u001b[0m\n",
       "\u001b[2;36m                    \u001b[0m         retain the old behavior, exclude the relevant entries before the       \u001b[2m               \u001b[0m\n",
       "\u001b[2;36m                    \u001b[0m         concat operation.                                                      \u001b[2m               \u001b[0m\n",
       "\u001b[2;36m                    \u001b[0m           \u001b[1;35mpd.concat\u001b[0m\u001b[1m(\u001b[0mdfs\u001b[1m)\u001b[0m                                                       \u001b[2m               \u001b[0m\n",
       "\u001b[2;36m                    \u001b[0m                                                                                \u001b[2m               \u001b[0m\n"
      ]
     },
     "metadata": {},
     "output_type": "display_data"
    },
    {
     "data": {
      "text/html": [
       "<pre style=\"white-space:pre;overflow-x:auto;line-height:normal;font-family:Menlo,'DejaVu Sans Mono',consolas,'Courier New',monospace\"><span style=\"color: #7fbfbf; text-decoration-color: #7fbfbf\">[04/23/25 17:38:58] </span><span style=\"color: #800000; text-decoration-color: #800000\">WARNING </span> <span style=\"color: #800080; text-decoration-color: #800080\">/var/folders/jp/fbwfkpy50vs_7m6dlkzl468h0000gn/T/ipykernel_95726/</span><span style=\"color: #ff00ff; text-decoration-color: #ff00ff\">17774</span> <a href=\"file:///opt/homebrew/Cellar/python@3.11/3.11.6_1/Frameworks/Python.framework/Versions/3.11/lib/python3.11/warnings.py\" target=\"_blank\"><span style=\"color: #7f7f7f; text-decoration-color: #7f7f7f\">warnings.py</span></a><span style=\"color: #7f7f7f; text-decoration-color: #7f7f7f\">:</span><a href=\"file:///opt/homebrew/Cellar/python@3.11/3.11.6_1/Frameworks/Python.framework/Versions/3.11/lib/python3.11/warnings.py#109\" target=\"_blank\"><span style=\"color: #7f7f7f; text-decoration-color: #7f7f7f\">109</span></a>\n",
       "<span style=\"color: #7fbfbf; text-decoration-color: #7fbfbf\">                    </span>         <span style=\"color: #ff00ff; text-decoration-color: #ff00ff\">70853.py</span>:<span style=\"color: #008080; text-decoration-color: #008080; font-weight: bold\">16</span>: SettingWithCopyWarning:                                   <span style=\"color: #7f7f7f; text-decoration-color: #7f7f7f\">               </span>\n",
       "<span style=\"color: #7fbfbf; text-decoration-color: #7fbfbf\">                    </span>         A value is trying to be set on a copy of a slice from a DataFrame.     <span style=\"color: #7f7f7f; text-decoration-color: #7f7f7f\">               </span>\n",
       "<span style=\"color: #7fbfbf; text-decoration-color: #7fbfbf\">                    </span>         Try using .loc = value instead                                         <span style=\"color: #7f7f7f; text-decoration-color: #7f7f7f\">               </span>\n",
       "<span style=\"color: #7fbfbf; text-decoration-color: #7fbfbf\">                    </span>                                                                                <span style=\"color: #7f7f7f; text-decoration-color: #7f7f7f\">               </span>\n",
       "<span style=\"color: #7fbfbf; text-decoration-color: #7fbfbf\">                    </span>         See the caveats in the documentation:                                  <span style=\"color: #7f7f7f; text-decoration-color: #7f7f7f\">               </span>\n",
       "<span style=\"color: #7fbfbf; text-decoration-color: #7fbfbf\">                    </span>         <span style=\"color: #0000ff; text-decoration-color: #0000ff; text-decoration: underline\">https://pandas.pydata.org/pandas-docs/stable/user_guide/indexing.html#</span> <span style=\"color: #7f7f7f; text-decoration-color: #7f7f7f\">               </span>\n",
       "<span style=\"color: #7fbfbf; text-decoration-color: #7fbfbf\">                    </span>         <span style=\"color: #0000ff; text-decoration-color: #0000ff; text-decoration: underline\">returning-a-view-versus-a-copy</span>                                         <span style=\"color: #7f7f7f; text-decoration-color: #7f7f7f\">               </span>\n",
       "<span style=\"color: #7fbfbf; text-decoration-color: #7fbfbf\">                    </span>           week_matches<span style=\"font-weight: bold\">[[</span><span style=\"color: #008000; text-decoration-color: #008000\">'home_score'</span>, <span style=\"color: #008000; text-decoration-color: #008000\">'away_score'</span><span style=\"font-weight: bold\">]]</span> =                         <span style=\"color: #7f7f7f; text-decoration-color: #7f7f7f\">               </span>\n",
       "<span style=\"color: #7fbfbf; text-decoration-color: #7fbfbf\">                    </span>         week_matches<span style=\"font-weight: bold\">[</span><span style=\"color: #008000; text-decoration-color: #008000\">'score'</span><span style=\"font-weight: bold\">]</span><span style=\"color: #800080; text-decoration-color: #800080; font-weight: bold\">.str.split</span><span style=\"font-weight: bold\">(</span><span style=\"color: #008000; text-decoration-color: #008000\">'–'</span>, <span style=\"color: #808000; text-decoration-color: #808000\">expand</span>=<span style=\"color: #00ff00; text-decoration-color: #00ff00; font-style: italic\">True</span><span style=\"font-weight: bold\">)</span><span style=\"color: #800080; text-decoration-color: #800080; font-weight: bold\">.astype</span><span style=\"font-weight: bold\">(</span>float<span style=\"font-weight: bold\">)</span>        <span style=\"color: #7f7f7f; text-decoration-color: #7f7f7f\">               </span>\n",
       "<span style=\"color: #7fbfbf; text-decoration-color: #7fbfbf\">                    </span>                                                                                <span style=\"color: #7f7f7f; text-decoration-color: #7f7f7f\">               </span>\n",
       "</pre>\n"
      ],
      "text/plain": [
       "\u001b[2;36m[04/23/25 17:38:58]\u001b[0m\u001b[2;36m \u001b[0m\u001b[31mWARNING \u001b[0m \u001b[35m/var/folders/jp/fbwfkpy50vs_7m6dlkzl468h0000gn/T/ipykernel_95726/\u001b[0m\u001b[95m17774\u001b[0m \u001b]8;id=498348;file:///opt/homebrew/Cellar/python@3.11/3.11.6_1/Frameworks/Python.framework/Versions/3.11/lib/python3.11/warnings.py\u001b\\\u001b[2mwarnings.py\u001b[0m\u001b]8;;\u001b\\\u001b[2m:\u001b[0m\u001b]8;id=348042;file:///opt/homebrew/Cellar/python@3.11/3.11.6_1/Frameworks/Python.framework/Versions/3.11/lib/python3.11/warnings.py#109\u001b\\\u001b[2m109\u001b[0m\u001b]8;;\u001b\\\n",
       "\u001b[2;36m                    \u001b[0m         \u001b[95m70853.py\u001b[0m:\u001b[1;36m16\u001b[0m: SettingWithCopyWarning:                                   \u001b[2m               \u001b[0m\n",
       "\u001b[2;36m                    \u001b[0m         A value is trying to be set on a copy of a slice from a DataFrame.     \u001b[2m               \u001b[0m\n",
       "\u001b[2;36m                    \u001b[0m         Try using .loc = value instead                                         \u001b[2m               \u001b[0m\n",
       "\u001b[2;36m                    \u001b[0m                                                                                \u001b[2m               \u001b[0m\n",
       "\u001b[2;36m                    \u001b[0m         See the caveats in the documentation:                                  \u001b[2m               \u001b[0m\n",
       "\u001b[2;36m                    \u001b[0m         \u001b[4;94mhttps://pandas.pydata.org/pandas-docs/stable/user_guide/indexing.html#\u001b[0m \u001b[2m               \u001b[0m\n",
       "\u001b[2;36m                    \u001b[0m         \u001b[4;94mreturning-a-view-versus-a-copy\u001b[0m                                         \u001b[2m               \u001b[0m\n",
       "\u001b[2;36m                    \u001b[0m           week_matches\u001b[1m[\u001b[0m\u001b[1m[\u001b[0m\u001b[32m'home_score'\u001b[0m, \u001b[32m'away_score'\u001b[0m\u001b[1m]\u001b[0m\u001b[1m]\u001b[0m =                         \u001b[2m               \u001b[0m\n",
       "\u001b[2;36m                    \u001b[0m         week_matches\u001b[1m[\u001b[0m\u001b[32m'score'\u001b[0m\u001b[1m]\u001b[0m\u001b[1;35m.str.split\u001b[0m\u001b[1m(\u001b[0m\u001b[32m'–'\u001b[0m, \u001b[33mexpand\u001b[0m=\u001b[3;92mTrue\u001b[0m\u001b[1m)\u001b[0m\u001b[1;35m.astype\u001b[0m\u001b[1m(\u001b[0mfloat\u001b[1m)\u001b[0m        \u001b[2m               \u001b[0m\n",
       "\u001b[2;36m                    \u001b[0m                                                                                \u001b[2m               \u001b[0m\n"
      ]
     },
     "metadata": {},
     "output_type": "display_data"
    },
    {
     "data": {
      "text/html": [
       "<pre style=\"white-space:pre;overflow-x:auto;line-height:normal;font-family:Menlo,'DejaVu Sans Mono',consolas,'Courier New',monospace\"><span style=\"color: #7fbfbf; text-decoration-color: #7fbfbf\">                    </span><span style=\"color: #800000; text-decoration-color: #800000\">WARNING </span> <span style=\"color: #800080; text-decoration-color: #800080\">/var/folders/jp/fbwfkpy50vs_7m6dlkzl468h0000gn/T/ipykernel_95726/</span><span style=\"color: #ff00ff; text-decoration-color: #ff00ff\">17774</span> <a href=\"file:///opt/homebrew/Cellar/python@3.11/3.11.6_1/Frameworks/Python.framework/Versions/3.11/lib/python3.11/warnings.py\" target=\"_blank\"><span style=\"color: #7f7f7f; text-decoration-color: #7f7f7f\">warnings.py</span></a><span style=\"color: #7f7f7f; text-decoration-color: #7f7f7f\">:</span><a href=\"file:///opt/homebrew/Cellar/python@3.11/3.11.6_1/Frameworks/Python.framework/Versions/3.11/lib/python3.11/warnings.py#109\" target=\"_blank\"><span style=\"color: #7f7f7f; text-decoration-color: #7f7f7f\">109</span></a>\n",
       "<span style=\"color: #7fbfbf; text-decoration-color: #7fbfbf\">                    </span>         <span style=\"color: #ff00ff; text-decoration-color: #ff00ff\">70853.py</span>:<span style=\"color: #008080; text-decoration-color: #008080; font-weight: bold\">16</span>: SettingWithCopyWarning:                                   <span style=\"color: #7f7f7f; text-decoration-color: #7f7f7f\">               </span>\n",
       "<span style=\"color: #7fbfbf; text-decoration-color: #7fbfbf\">                    </span>         A value is trying to be set on a copy of a slice from a DataFrame.     <span style=\"color: #7f7f7f; text-decoration-color: #7f7f7f\">               </span>\n",
       "<span style=\"color: #7fbfbf; text-decoration-color: #7fbfbf\">                    </span>         Try using .loc = value instead                                         <span style=\"color: #7f7f7f; text-decoration-color: #7f7f7f\">               </span>\n",
       "<span style=\"color: #7fbfbf; text-decoration-color: #7fbfbf\">                    </span>                                                                                <span style=\"color: #7f7f7f; text-decoration-color: #7f7f7f\">               </span>\n",
       "<span style=\"color: #7fbfbf; text-decoration-color: #7fbfbf\">                    </span>         See the caveats in the documentation:                                  <span style=\"color: #7f7f7f; text-decoration-color: #7f7f7f\">               </span>\n",
       "<span style=\"color: #7fbfbf; text-decoration-color: #7fbfbf\">                    </span>         <span style=\"color: #0000ff; text-decoration-color: #0000ff; text-decoration: underline\">https://pandas.pydata.org/pandas-docs/stable/user_guide/indexing.html#</span> <span style=\"color: #7f7f7f; text-decoration-color: #7f7f7f\">               </span>\n",
       "<span style=\"color: #7fbfbf; text-decoration-color: #7fbfbf\">                    </span>         <span style=\"color: #0000ff; text-decoration-color: #0000ff; text-decoration: underline\">returning-a-view-versus-a-copy</span>                                         <span style=\"color: #7f7f7f; text-decoration-color: #7f7f7f\">               </span>\n",
       "<span style=\"color: #7fbfbf; text-decoration-color: #7fbfbf\">                    </span>           week_matches<span style=\"font-weight: bold\">[[</span><span style=\"color: #008000; text-decoration-color: #008000\">'home_score'</span>, <span style=\"color: #008000; text-decoration-color: #008000\">'away_score'</span><span style=\"font-weight: bold\">]]</span> =                         <span style=\"color: #7f7f7f; text-decoration-color: #7f7f7f\">               </span>\n",
       "<span style=\"color: #7fbfbf; text-decoration-color: #7fbfbf\">                    </span>         week_matches<span style=\"font-weight: bold\">[</span><span style=\"color: #008000; text-decoration-color: #008000\">'score'</span><span style=\"font-weight: bold\">]</span><span style=\"color: #800080; text-decoration-color: #800080; font-weight: bold\">.str.split</span><span style=\"font-weight: bold\">(</span><span style=\"color: #008000; text-decoration-color: #008000\">'–'</span>, <span style=\"color: #808000; text-decoration-color: #808000\">expand</span>=<span style=\"color: #00ff00; text-decoration-color: #00ff00; font-style: italic\">True</span><span style=\"font-weight: bold\">)</span><span style=\"color: #800080; text-decoration-color: #800080; font-weight: bold\">.astype</span><span style=\"font-weight: bold\">(</span>float<span style=\"font-weight: bold\">)</span>        <span style=\"color: #7f7f7f; text-decoration-color: #7f7f7f\">               </span>\n",
       "<span style=\"color: #7fbfbf; text-decoration-color: #7fbfbf\">                    </span>                                                                                <span style=\"color: #7f7f7f; text-decoration-color: #7f7f7f\">               </span>\n",
       "</pre>\n"
      ],
      "text/plain": [
       "\u001b[2;36m                   \u001b[0m\u001b[2;36m \u001b[0m\u001b[31mWARNING \u001b[0m \u001b[35m/var/folders/jp/fbwfkpy50vs_7m6dlkzl468h0000gn/T/ipykernel_95726/\u001b[0m\u001b[95m17774\u001b[0m \u001b]8;id=209669;file:///opt/homebrew/Cellar/python@3.11/3.11.6_1/Frameworks/Python.framework/Versions/3.11/lib/python3.11/warnings.py\u001b\\\u001b[2mwarnings.py\u001b[0m\u001b]8;;\u001b\\\u001b[2m:\u001b[0m\u001b]8;id=84683;file:///opt/homebrew/Cellar/python@3.11/3.11.6_1/Frameworks/Python.framework/Versions/3.11/lib/python3.11/warnings.py#109\u001b\\\u001b[2m109\u001b[0m\u001b]8;;\u001b\\\n",
       "\u001b[2;36m                    \u001b[0m         \u001b[95m70853.py\u001b[0m:\u001b[1;36m16\u001b[0m: SettingWithCopyWarning:                                   \u001b[2m               \u001b[0m\n",
       "\u001b[2;36m                    \u001b[0m         A value is trying to be set on a copy of a slice from a DataFrame.     \u001b[2m               \u001b[0m\n",
       "\u001b[2;36m                    \u001b[0m         Try using .loc = value instead                                         \u001b[2m               \u001b[0m\n",
       "\u001b[2;36m                    \u001b[0m                                                                                \u001b[2m               \u001b[0m\n",
       "\u001b[2;36m                    \u001b[0m         See the caveats in the documentation:                                  \u001b[2m               \u001b[0m\n",
       "\u001b[2;36m                    \u001b[0m         \u001b[4;94mhttps://pandas.pydata.org/pandas-docs/stable/user_guide/indexing.html#\u001b[0m \u001b[2m               \u001b[0m\n",
       "\u001b[2;36m                    \u001b[0m         \u001b[4;94mreturning-a-view-versus-a-copy\u001b[0m                                         \u001b[2m               \u001b[0m\n",
       "\u001b[2;36m                    \u001b[0m           week_matches\u001b[1m[\u001b[0m\u001b[1m[\u001b[0m\u001b[32m'home_score'\u001b[0m, \u001b[32m'away_score'\u001b[0m\u001b[1m]\u001b[0m\u001b[1m]\u001b[0m =                         \u001b[2m               \u001b[0m\n",
       "\u001b[2;36m                    \u001b[0m         week_matches\u001b[1m[\u001b[0m\u001b[32m'score'\u001b[0m\u001b[1m]\u001b[0m\u001b[1;35m.str.split\u001b[0m\u001b[1m(\u001b[0m\u001b[32m'–'\u001b[0m, \u001b[33mexpand\u001b[0m=\u001b[3;92mTrue\u001b[0m\u001b[1m)\u001b[0m\u001b[1;35m.astype\u001b[0m\u001b[1m(\u001b[0mfloat\u001b[1m)\u001b[0m        \u001b[2m               \u001b[0m\n",
       "\u001b[2;36m                    \u001b[0m                                                                                \u001b[2m               \u001b[0m\n"
      ]
     },
     "metadata": {},
     "output_type": "display_data"
    },
    {
     "name": "stdout",
     "output_type": "stream",
     "text": [
      "                                                                      date  \\\n",
      "league             season game                                               \n",
      "ENG-Premier League 2425   2025-04-19 Aston Villa-Newcastle Utd  2025-04-19   \n",
      "                          2025-04-19 Brentford-Brighton         2025-04-19   \n",
      "                          2025-04-19 Crystal Palace-Bournemouth 2025-04-19   \n",
      "                          2025-04-19 Everton-Manchester City    2025-04-19   \n",
      "                          2025-04-19 West Ham-Southampton       2025-04-19   \n",
      "                          2025-04-20 Fulham-Chelsea             2025-04-20   \n",
      "                          2025-04-20 Ipswich Town-Arsenal       2025-04-20   \n",
      "                          2025-04-20 Leicester City-Liverpool   2025-04-20   \n",
      "                          2025-04-20 Manchester Utd-Wolves      2025-04-20   \n",
      "                          2025-04-21 Tottenham-Nott'ham Forest  2025-04-21   \n",
      "\n",
      "                                                                      home_team  \\\n",
      "league             season game                                                    \n",
      "ENG-Premier League 2425   2025-04-19 Aston Villa-Newcastle Utd      Aston Villa   \n",
      "                          2025-04-19 Brentford-Brighton               Brentford   \n",
      "                          2025-04-19 Crystal Palace-Bournemouth  Crystal Palace   \n",
      "                          2025-04-19 Everton-Manchester City            Everton   \n",
      "                          2025-04-19 West Ham-Southampton              West Ham   \n",
      "                          2025-04-20 Fulham-Chelsea                      Fulham   \n",
      "                          2025-04-20 Ipswich Town-Arsenal          Ipswich Town   \n",
      "                          2025-04-20 Leicester City-Liverpool    Leicester City   \n",
      "                          2025-04-20 Manchester Utd-Wolves       Manchester Utd   \n",
      "                          2025-04-21 Tottenham-Nott'ham Forest        Tottenham   \n",
      "\n",
      "                                                                 home_score  \\\n",
      "league             season game                                                \n",
      "ENG-Premier League 2425   2025-04-19 Aston Villa-Newcastle Utd          4.0   \n",
      "                          2025-04-19 Brentford-Brighton                 4.0   \n",
      "                          2025-04-19 Crystal Palace-Bournemouth         0.0   \n",
      "                          2025-04-19 Everton-Manchester City            0.0   \n",
      "                          2025-04-19 West Ham-Southampton               1.0   \n",
      "                          2025-04-20 Fulham-Chelsea                     1.0   \n",
      "                          2025-04-20 Ipswich Town-Arsenal               0.0   \n",
      "                          2025-04-20 Leicester City-Liverpool           0.0   \n",
      "                          2025-04-20 Manchester Utd-Wolves              0.0   \n",
      "                          2025-04-21 Tottenham-Nott'ham Forest          1.0   \n",
      "\n",
      "                                                                       away_team  \\\n",
      "league             season game                                                     \n",
      "ENG-Premier League 2425   2025-04-19 Aston Villa-Newcastle Utd     Newcastle Utd   \n",
      "                          2025-04-19 Brentford-Brighton                 Brighton   \n",
      "                          2025-04-19 Crystal Palace-Bournemouth      Bournemouth   \n",
      "                          2025-04-19 Everton-Manchester City     Manchester City   \n",
      "                          2025-04-19 West Ham-Southampton            Southampton   \n",
      "                          2025-04-20 Fulham-Chelsea                      Chelsea   \n",
      "                          2025-04-20 Ipswich Town-Arsenal                Arsenal   \n",
      "                          2025-04-20 Leicester City-Liverpool          Liverpool   \n",
      "                          2025-04-20 Manchester Utd-Wolves                Wolves   \n",
      "                          2025-04-21 Tottenham-Nott'ham Forest   Nott'ham Forest   \n",
      "\n",
      "                                                                 away_score  \n",
      "league             season game                                               \n",
      "ENG-Premier League 2425   2025-04-19 Aston Villa-Newcastle Utd          1.0  \n",
      "                          2025-04-19 Brentford-Brighton                 2.0  \n",
      "                          2025-04-19 Crystal Palace-Bournemouth         0.0  \n",
      "                          2025-04-19 Everton-Manchester City            2.0  \n",
      "                          2025-04-19 West Ham-Southampton               1.0  \n",
      "                          2025-04-20 Fulham-Chelsea                     2.0  \n",
      "                          2025-04-20 Ipswich Town-Arsenal               4.0  \n",
      "                          2025-04-20 Leicester City-Liverpool           1.0  \n",
      "                          2025-04-20 Manchester Utd-Wolves              1.0  \n",
      "                          2025-04-21 Tottenham-Nott'ham Forest          2.0  \n"
     ]
    }
   ],
   "source": [
    "import soccerdata as sd\n",
    "\n",
    "# Initialize the FBref scraper for the Premier League 2024-2025 season\n",
    "fbref = sd.FBref(leagues=\"ENG-Premier League\", seasons=2024)\n",
    "\n",
    "# Retrieve match statistics\n",
    "schedule = fbref.read_schedule()\n",
    "\n",
    "# Define matchweek window\n",
    "week_matches = schedule[\n",
    "    (schedule['date'] >= '2025-04-19') &\n",
    "    (schedule['date'] <= '2025-04-21')\n",
    "]\n",
    "\n",
    "# Split score\n",
    "week_matches[['home_score', 'away_score']] = week_matches['score'].str.split('–', expand=True).astype(float)\n",
    "\n",
    "print(week_matches[['date', 'home_team', 'home_score', 'away_team', 'away_score']])\n"
   ]
  },
  {
   "cell_type": "code",
   "execution_count": 50,
   "id": "f6c4c51b",
   "metadata": {},
   "outputs": [
    {
     "data": {
      "text/html": [
       "<pre style=\"white-space:pre;overflow-x:auto;line-height:normal;font-family:Menlo,'DejaVu Sans Mono',consolas,'Courier New',monospace\"><span style=\"color: #7fbfbf; text-decoration-color: #7fbfbf\">[04/23/25 18:11:02] </span><span style=\"color: #800000; text-decoration-color: #800000\">WARNING </span> <span style=\"color: #800080; text-decoration-color: #800080\">/opt/homebrew/lib/python3.11/site-packages/soccerdata/</span><span style=\"color: #ff00ff; text-decoration-color: #ff00ff\">fbref.py</span>:<span style=\"color: #008080; text-decoration-color: #008080; font-weight: bold\">165</span>:    <a href=\"file:///opt/homebrew/Cellar/python@3.11/3.11.6_1/Frameworks/Python.framework/Versions/3.11/lib/python3.11/warnings.py\" target=\"_blank\"><span style=\"color: #7f7f7f; text-decoration-color: #7f7f7f\">warnings.py</span></a><span style=\"color: #7f7f7f; text-decoration-color: #7f7f7f\">:</span><a href=\"file:///opt/homebrew/Cellar/python@3.11/3.11.6_1/Frameworks/Python.framework/Versions/3.11/lib/python3.11/warnings.py#109\" target=\"_blank\"><span style=\"color: #7f7f7f; text-decoration-color: #7f7f7f\">109</span></a>\n",
       "<span style=\"color: #7fbfbf; text-decoration-color: #7fbfbf\">                    </span>         FutureWarning: The behavior of DataFrame concatenation with empty or   <span style=\"color: #7f7f7f; text-decoration-color: #7f7f7f\">               </span>\n",
       "<span style=\"color: #7fbfbf; text-decoration-color: #7fbfbf\">                    </span>         all-NA entries is deprecated. In a future version, this will no longer <span style=\"color: #7f7f7f; text-decoration-color: #7f7f7f\">               </span>\n",
       "<span style=\"color: #7fbfbf; text-decoration-color: #7fbfbf\">                    </span>         exclude empty or all-NA columns when determining the result dtypes. To <span style=\"color: #7f7f7f; text-decoration-color: #7f7f7f\">               </span>\n",
       "<span style=\"color: #7fbfbf; text-decoration-color: #7fbfbf\">                    </span>         retain the old behavior, exclude the relevant entries before the       <span style=\"color: #7f7f7f; text-decoration-color: #7f7f7f\">               </span>\n",
       "<span style=\"color: #7fbfbf; text-decoration-color: #7fbfbf\">                    </span>         concat operation.                                                      <span style=\"color: #7f7f7f; text-decoration-color: #7f7f7f\">               </span>\n",
       "<span style=\"color: #7fbfbf; text-decoration-color: #7fbfbf\">                    </span>           <span style=\"color: #800080; text-decoration-color: #800080; font-weight: bold\">pd.concat</span><span style=\"font-weight: bold\">(</span>dfs<span style=\"font-weight: bold\">)</span>                                                       <span style=\"color: #7f7f7f; text-decoration-color: #7f7f7f\">               </span>\n",
       "<span style=\"color: #7fbfbf; text-decoration-color: #7fbfbf\">                    </span>                                                                                <span style=\"color: #7f7f7f; text-decoration-color: #7f7f7f\">               </span>\n",
       "</pre>\n"
      ],
      "text/plain": [
       "\u001b[2;36m[04/23/25 18:11:02]\u001b[0m\u001b[2;36m \u001b[0m\u001b[31mWARNING \u001b[0m \u001b[35m/opt/homebrew/lib/python3.11/site-packages/soccerdata/\u001b[0m\u001b[95mfbref.py\u001b[0m:\u001b[1;36m165\u001b[0m:    \u001b]8;id=33869;file:///opt/homebrew/Cellar/python@3.11/3.11.6_1/Frameworks/Python.framework/Versions/3.11/lib/python3.11/warnings.py\u001b\\\u001b[2mwarnings.py\u001b[0m\u001b]8;;\u001b\\\u001b[2m:\u001b[0m\u001b]8;id=786882;file:///opt/homebrew/Cellar/python@3.11/3.11.6_1/Frameworks/Python.framework/Versions/3.11/lib/python3.11/warnings.py#109\u001b\\\u001b[2m109\u001b[0m\u001b]8;;\u001b\\\n",
       "\u001b[2;36m                    \u001b[0m         FutureWarning: The behavior of DataFrame concatenation with empty or   \u001b[2m               \u001b[0m\n",
       "\u001b[2;36m                    \u001b[0m         all-NA entries is deprecated. In a future version, this will no longer \u001b[2m               \u001b[0m\n",
       "\u001b[2;36m                    \u001b[0m         exclude empty or all-NA columns when determining the result dtypes. To \u001b[2m               \u001b[0m\n",
       "\u001b[2;36m                    \u001b[0m         retain the old behavior, exclude the relevant entries before the       \u001b[2m               \u001b[0m\n",
       "\u001b[2;36m                    \u001b[0m         concat operation.                                                      \u001b[2m               \u001b[0m\n",
       "\u001b[2;36m                    \u001b[0m           \u001b[1;35mpd.concat\u001b[0m\u001b[1m(\u001b[0mdfs\u001b[1m)\u001b[0m                                                       \u001b[2m               \u001b[0m\n",
       "\u001b[2;36m                    \u001b[0m                                                                                \u001b[2m               \u001b[0m\n"
      ]
     },
     "metadata": {},
     "output_type": "display_data"
    },
    {
     "data": {
      "text/html": [
       "<pre style=\"white-space:pre;overflow-x:auto;line-height:normal;font-family:Menlo,'DejaVu Sans Mono',consolas,'Courier New',monospace\"><span style=\"color: #7fbfbf; text-decoration-color: #7fbfbf\">[04/23/25 18:11:08] </span><span style=\"color: #000080; text-decoration-color: #000080\">INFO    </span> <span style=\"font-weight: bold\">[</span><span style=\"color: #008080; text-decoration-color: #008080; font-weight: bold\">1</span>/<span style=\"color: #008080; text-decoration-color: #008080; font-weight: bold\">1</span><span style=\"font-weight: bold\">]</span> Retrieving game with <span style=\"color: #808000; text-decoration-color: #808000\">id</span>=<span style=\"color: #800080; text-decoration-color: #800080\">a95e25da</span>                                    <a href=\"file:///opt/homebrew/lib/python3.11/site-packages/soccerdata/fbref.py\" target=\"_blank\"><span style=\"color: #7f7f7f; text-decoration-color: #7f7f7f\">fbref.py</span></a><span style=\"color: #7f7f7f; text-decoration-color: #7f7f7f\">:</span><a href=\"file:///opt/homebrew/lib/python3.11/site-packages/soccerdata/fbref.py#815\" target=\"_blank\"><span style=\"color: #7f7f7f; text-decoration-color: #7f7f7f\">815</span></a>\n",
       "</pre>\n"
      ],
      "text/plain": [
       "\u001b[2;36m[04/23/25 18:11:08]\u001b[0m\u001b[2;36m \u001b[0m\u001b[34mINFO    \u001b[0m \u001b[1m[\u001b[0m\u001b[1;36m1\u001b[0m/\u001b[1;36m1\u001b[0m\u001b[1m]\u001b[0m Retrieving game with \u001b[33mid\u001b[0m=\u001b[35ma95e25da\u001b[0m                                    \u001b]8;id=443780;file:///opt/homebrew/lib/python3.11/site-packages/soccerdata/fbref.py\u001b\\\u001b[2mfbref.py\u001b[0m\u001b]8;;\u001b\\\u001b[2m:\u001b[0m\u001b]8;id=408181;file:///opt/homebrew/lib/python3.11/site-packages/soccerdata/fbref.py#815\u001b\\\u001b[2m815\u001b[0m\u001b]8;;\u001b\\\n"
      ]
     },
     "metadata": {},
     "output_type": "display_data"
    },
    {
     "data": {
      "text/html": [
       "<pre style=\"white-space:pre;overflow-x:auto;line-height:normal;font-family:Menlo,'DejaVu Sans Mono',consolas,'Courier New',monospace\"><span style=\"color: #7fbfbf; text-decoration-color: #7fbfbf\">[04/23/25 18:11:15] </span><span style=\"color: #800000; text-decoration-color: #800000\">WARNING </span> <span style=\"color: #800080; text-decoration-color: #800080\">/opt/homebrew/lib/python3.11/site-packages/soccerdata/</span><span style=\"color: #ff00ff; text-decoration-color: #ff00ff\">fbref.py</span>:<span style=\"color: #008080; text-decoration-color: #008080; font-weight: bold\">165</span>:    <a href=\"file:///opt/homebrew/Cellar/python@3.11/3.11.6_1/Frameworks/Python.framework/Versions/3.11/lib/python3.11/warnings.py\" target=\"_blank\"><span style=\"color: #7f7f7f; text-decoration-color: #7f7f7f\">warnings.py</span></a><span style=\"color: #7f7f7f; text-decoration-color: #7f7f7f\">:</span><a href=\"file:///opt/homebrew/Cellar/python@3.11/3.11.6_1/Frameworks/Python.framework/Versions/3.11/lib/python3.11/warnings.py#109\" target=\"_blank\"><span style=\"color: #7f7f7f; text-decoration-color: #7f7f7f\">109</span></a>\n",
       "<span style=\"color: #7fbfbf; text-decoration-color: #7fbfbf\">                    </span>         FutureWarning: The behavior of DataFrame concatenation with empty or   <span style=\"color: #7f7f7f; text-decoration-color: #7f7f7f\">               </span>\n",
       "<span style=\"color: #7fbfbf; text-decoration-color: #7fbfbf\">                    </span>         all-NA entries is deprecated. In a future version, this will no longer <span style=\"color: #7f7f7f; text-decoration-color: #7f7f7f\">               </span>\n",
       "<span style=\"color: #7fbfbf; text-decoration-color: #7fbfbf\">                    </span>         exclude empty or all-NA columns when determining the result dtypes. To <span style=\"color: #7f7f7f; text-decoration-color: #7f7f7f\">               </span>\n",
       "<span style=\"color: #7fbfbf; text-decoration-color: #7fbfbf\">                    </span>         retain the old behavior, exclude the relevant entries before the       <span style=\"color: #7f7f7f; text-decoration-color: #7f7f7f\">               </span>\n",
       "<span style=\"color: #7fbfbf; text-decoration-color: #7fbfbf\">                    </span>         concat operation.                                                      <span style=\"color: #7f7f7f; text-decoration-color: #7f7f7f\">               </span>\n",
       "<span style=\"color: #7fbfbf; text-decoration-color: #7fbfbf\">                    </span>           <span style=\"color: #800080; text-decoration-color: #800080; font-weight: bold\">pd.concat</span><span style=\"font-weight: bold\">(</span>dfs<span style=\"font-weight: bold\">)</span>                                                       <span style=\"color: #7f7f7f; text-decoration-color: #7f7f7f\">               </span>\n",
       "<span style=\"color: #7fbfbf; text-decoration-color: #7fbfbf\">                    </span>                                                                                <span style=\"color: #7f7f7f; text-decoration-color: #7f7f7f\">               </span>\n",
       "</pre>\n"
      ],
      "text/plain": [
       "\u001b[2;36m[04/23/25 18:11:15]\u001b[0m\u001b[2;36m \u001b[0m\u001b[31mWARNING \u001b[0m \u001b[35m/opt/homebrew/lib/python3.11/site-packages/soccerdata/\u001b[0m\u001b[95mfbref.py\u001b[0m:\u001b[1;36m165\u001b[0m:    \u001b]8;id=455003;file:///opt/homebrew/Cellar/python@3.11/3.11.6_1/Frameworks/Python.framework/Versions/3.11/lib/python3.11/warnings.py\u001b\\\u001b[2mwarnings.py\u001b[0m\u001b]8;;\u001b\\\u001b[2m:\u001b[0m\u001b]8;id=576297;file:///opt/homebrew/Cellar/python@3.11/3.11.6_1/Frameworks/Python.framework/Versions/3.11/lib/python3.11/warnings.py#109\u001b\\\u001b[2m109\u001b[0m\u001b]8;;\u001b\\\n",
       "\u001b[2;36m                    \u001b[0m         FutureWarning: The behavior of DataFrame concatenation with empty or   \u001b[2m               \u001b[0m\n",
       "\u001b[2;36m                    \u001b[0m         all-NA entries is deprecated. In a future version, this will no longer \u001b[2m               \u001b[0m\n",
       "\u001b[2;36m                    \u001b[0m         exclude empty or all-NA columns when determining the result dtypes. To \u001b[2m               \u001b[0m\n",
       "\u001b[2;36m                    \u001b[0m         retain the old behavior, exclude the relevant entries before the       \u001b[2m               \u001b[0m\n",
       "\u001b[2;36m                    \u001b[0m         concat operation.                                                      \u001b[2m               \u001b[0m\n",
       "\u001b[2;36m                    \u001b[0m           \u001b[1;35mpd.concat\u001b[0m\u001b[1m(\u001b[0mdfs\u001b[1m)\u001b[0m                                                       \u001b[2m               \u001b[0m\n",
       "\u001b[2;36m                    \u001b[0m                                                                                \u001b[2m               \u001b[0m\n"
      ]
     },
     "metadata": {},
     "output_type": "display_data"
    },
    {
     "data": {
      "text/html": [
       "<pre style=\"white-space:pre;overflow-x:auto;line-height:normal;font-family:Menlo,'DejaVu Sans Mono',consolas,'Courier New',monospace\"><span style=\"color: #7fbfbf; text-decoration-color: #7fbfbf\">[04/23/25 18:11:21] </span><span style=\"color: #000080; text-decoration-color: #000080\">INFO    </span> <span style=\"font-weight: bold\">[</span><span style=\"color: #008080; text-decoration-color: #008080; font-weight: bold\">1</span>/<span style=\"color: #008080; text-decoration-color: #008080; font-weight: bold\">1</span><span style=\"font-weight: bold\">]</span> Retrieving game with <span style=\"color: #808000; text-decoration-color: #808000\">id</span>=<span style=\"color: #800080; text-decoration-color: #800080\">a95e25da</span>                                    <a href=\"file:///opt/homebrew/lib/python3.11/site-packages/soccerdata/fbref.py\" target=\"_blank\"><span style=\"color: #7f7f7f; text-decoration-color: #7f7f7f\">fbref.py</span></a><span style=\"color: #7f7f7f; text-decoration-color: #7f7f7f\">:</span><a href=\"file:///opt/homebrew/lib/python3.11/site-packages/soccerdata/fbref.py#815\" target=\"_blank\"><span style=\"color: #7f7f7f; text-decoration-color: #7f7f7f\">815</span></a>\n",
       "</pre>\n"
      ],
      "text/plain": [
       "\u001b[2;36m[04/23/25 18:11:21]\u001b[0m\u001b[2;36m \u001b[0m\u001b[34mINFO    \u001b[0m \u001b[1m[\u001b[0m\u001b[1;36m1\u001b[0m/\u001b[1;36m1\u001b[0m\u001b[1m]\u001b[0m Retrieving game with \u001b[33mid\u001b[0m=\u001b[35ma95e25da\u001b[0m                                    \u001b]8;id=883873;file:///opt/homebrew/lib/python3.11/site-packages/soccerdata/fbref.py\u001b\\\u001b[2mfbref.py\u001b[0m\u001b]8;;\u001b\\\u001b[2m:\u001b[0m\u001b]8;id=648816;file:///opt/homebrew/lib/python3.11/site-packages/soccerdata/fbref.py#815\u001b\\\u001b[2m815\u001b[0m\u001b]8;;\u001b\\\n"
      ]
     },
     "metadata": {},
     "output_type": "display_data"
    }
   ],
   "source": [
    "import pandas as pd\n",
    "\n",
    "player_match_stats = fbref.read_player_match_stats(stat_type=\"summary\", match_id='a95e25da')\n",
    "gk_match_stats = fbref.read_player_match_stats(stat_type=\"keepers\", match_id='a95e25da')"
   ]
  },
  {
   "cell_type": "code",
   "execution_count": 51,
   "id": "ed0c37b4",
   "metadata": {},
   "outputs": [],
   "source": [
    "import numpy as np\n",
    "import pandas as pd\n",
    "\n",
    "# Flatten the index\n",
    "outfield = player_match_stats.reset_index()\n",
    "keepers = gk_match_stats.reset_index()\n",
    "\n",
    "# Flatten MultiIndex columns\n",
    "outfield.columns = ['_'.join(col).strip() if isinstance(col, tuple) else col for col in outfield.columns]\n",
    "keepers.columns = ['_'.join(col).strip() if isinstance(col, tuple) else col for col in keepers.columns]\n",
    "\n",
    "# Set Position categories\n",
    "outfield['Position'] = outfield['pos_'].map({\n",
    "    'CB': 'Defender', 'RB': 'Defender', 'LB': 'Defender',\n",
    "    'DM': 'Midfielder', 'CM': 'Midfielder', 'AM': 'Midfielder',\n",
    "    'RW': 'Forward', 'LW': 'Forward', 'FW': 'Forward'\n",
    "}).fillna('Midfielder')  # Default fallback\n",
    "\n",
    "# Safely extract stats for outfield players\n",
    "outfield['Goals'] = outfield['Performance_Gls']\n",
    "outfield['Assists'] = outfield['Performance_Ast']\n",
    "outfield['Ycard'] = outfield['Performance_CrdY']\n",
    "outfield['Rcard'] = outfield['Performance_CrdR']\n",
    "\n",
    "# Extract home and away scores from schedule dataframe\n",
    "schedule[['home_score', 'away_score']] = schedule['score'].str.split('–', expand=True).astype(float)\n",
    "\n",
    "# Merge match info with outfield data to calculate clean sheets\n",
    "outfield = outfield.merge(\n",
    "    schedule[['game_id', 'home_team', 'home_score', 'away_team', 'away_score']],\n",
    "    left_on='game_id_',\n",
    "    right_on='game_id',\n",
    "    how='left'\n",
    ")\n",
    "\n",
    "# Define goals conceded by team\n",
    "def goals_conceded(row):\n",
    "    if row['team_'] == row['home_team']:\n",
    "        return row['away_score']\n",
    "    elif row['team_'] == row['away_team']:\n",
    "        return row['home_score']\n",
    "    else:\n",
    "        return np.nan\n",
    "\n",
    "outfield['goals_conceded'] = outfield.apply(goals_conceded, axis=1)\n",
    "outfield['Clean-Sheet'] = outfield['goals_conceded'].apply(lambda x: 1 if x == 0 else 0)\n",
    "\n",
    "# Calculate fantasy points for outfield players\n",
    "conditions = [\n",
    "    outfield['Position'] == 'Defender',\n",
    "    outfield['Position'] == 'Midfielder',\n",
    "    outfield['Position'] == 'Forward'\n",
    "]\n",
    "\n",
    "choices = [\n",
    "    outfield['Goals'] * 5 + outfield['Assists'] * 3 + outfield['Clean-Sheet'] * 4 + outfield['Ycard'] * -1 + outfield['Rcard'] * -3,\n",
    "    outfield['Goals'] * 5 + outfield['Assists'] * 3 + outfield['Clean-Sheet'] * 1 + outfield['Ycard'] * -1 + outfield['Rcard'] * -3,\n",
    "    outfield['Goals'] * 5 + outfield['Assists'] * 3 + outfield['Ycard'] * -1 + outfield['Rcard'] * -3\n",
    "]\n",
    "\n",
    "outfield['fantasy_points'] = np.select(conditions, choices, default=0)\n",
    "\n",
    "# Goalkeeper stat extraction\n",
    "keepers['SoTA'] = keepers['Shot Stopping_SoTA']\n",
    "keepers['GA'] = keepers['Shot Stopping_GA']\n",
    "keepers['CS'] = keepers['GA'].apply(lambda x: 1 if x == 0 else 0)\n",
    "\n",
    "# Calculate fantasy points for goalkeepers\n",
    "keepers['fantasy_points'] = keepers['SoTA'] * 1 + keepers['CS'] * 5 + keepers['GA'] * -2\n",
    "\n",
    "# Save to CSV\n",
    "outfield.to_csv('outfield_stats.csv', mode='a', header=False, index=False)\n",
    "keepers.to_csv('keeper_stats.csv', mode='a', header=False, index=False)\n"
   ]
  }
 ],
 "metadata": {
  "kernelspec": {
   "display_name": "Python 3",
   "language": "python",
   "name": "python3"
  },
  "language_info": {
   "codemirror_mode": {
    "name": "ipython",
    "version": 3
   },
   "file_extension": ".py",
   "mimetype": "text/x-python",
   "name": "python",
   "nbconvert_exporter": "python",
   "pygments_lexer": "ipython3",
   "version": "3.11.6"
  }
 },
 "nbformat": 4,
 "nbformat_minor": 5
}
