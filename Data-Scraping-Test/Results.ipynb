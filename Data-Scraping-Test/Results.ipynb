{
 "cells": [
  {
   "cell_type": "markdown",
   "id": "0ec923aa",
   "metadata": {},
   "source": [
    "## Results Per Week\n",
    "- My aim is to be able to pull in the most recent weeks results so that I can use them for points calculation and the home screen."
   ]
  },
  {
   "cell_type": "code",
   "execution_count": null,
   "id": "ad3dc102",
   "metadata": {},
   "outputs": [
    {
     "name": "stdout",
     "output_type": "stream",
     "text": [
      "Requirement already satisfied: soccerdata in /opt/homebrew/lib/python3.11/site-packages (1.8.7)\n",
      "Requirement already satisfied: PySocks<2.0.0,>=1.7.1 in /opt/homebrew/lib/python3.11/site-packages (from soccerdata) (1.7.1)\n",
      "Requirement already satisfied: Unidecode<2.0.0,>=1.2.0 in /opt/homebrew/lib/python3.11/site-packages (from soccerdata) (1.3.8)\n",
      "Requirement already satisfied: cloudscraper<2.0.0,>=1.2.71 in /opt/homebrew/lib/python3.11/site-packages (from soccerdata) (1.2.71)\n",
      "Requirement already satisfied: html5lib<2.0,>=1.1 in /opt/homebrew/lib/python3.11/site-packages (from soccerdata) (1.1)\n",
      "Requirement already satisfied: lxml<5.0.0,>=4.9.3 in /opt/homebrew/lib/python3.11/site-packages (from soccerdata) (4.9.4)\n",
      "Requirement already satisfied: packaging<25.0,>=24.1 in /opt/homebrew/lib/python3.11/site-packages (from soccerdata) (24.2)\n",
      "Requirement already satisfied: pandas!=2.1.0,<3.0.0,>=2.0.0 in /opt/homebrew/lib/python3.11/site-packages (from soccerdata) (2.2.3)\n",
      "Requirement already satisfied: requests<3.0,>=2.23 in /opt/homebrew/lib/python3.11/site-packages (from soccerdata) (2.32.3)\n",
      "Requirement already satisfied: rich<14.0.0,>=13.0.0 in /opt/homebrew/lib/python3.11/site-packages (from soccerdata) (13.6.0)\n",
      "Requirement already satisfied: undetected-chromedriver<4.0.0,>=3.5.0 in /opt/homebrew/lib/python3.11/site-packages (from soccerdata) (3.5.5)\n",
      "Requirement already satisfied: unicode<3.0,>=2.7 in /opt/homebrew/lib/python3.11/site-packages (from soccerdata) (2.9)\n",
      "Requirement already satisfied: pyparsing>=2.4.7 in /opt/homebrew/lib/python3.11/site-packages (from cloudscraper<2.0.0,>=1.2.71->soccerdata) (3.1.4)\n",
      "Requirement already satisfied: requests-toolbelt>=0.9.1 in /opt/homebrew/lib/python3.11/site-packages (from cloudscraper<2.0.0,>=1.2.71->soccerdata) (1.0.0)\n",
      "Requirement already satisfied: six>=1.9 in /Users/aaron/Library/Python/3.11/lib/python/site-packages (from html5lib<2.0,>=1.1->soccerdata) (1.16.0)\n",
      "Requirement already satisfied: webencodings in /opt/homebrew/lib/python3.11/site-packages (from html5lib<2.0,>=1.1->soccerdata) (0.5.1)\n",
      "Requirement already satisfied: numpy>=1.23.2 in /opt/homebrew/lib/python3.11/site-packages (from pandas!=2.1.0,<3.0.0,>=2.0.0->soccerdata) (2.1.1)\n",
      "Requirement already satisfied: python-dateutil>=2.8.2 in /Users/aaron/Library/Python/3.11/lib/python/site-packages (from pandas!=2.1.0,<3.0.0,>=2.0.0->soccerdata) (2.8.2)\n",
      "Requirement already satisfied: pytz>=2020.1 in /opt/homebrew/lib/python3.11/site-packages (from pandas!=2.1.0,<3.0.0,>=2.0.0->soccerdata) (2024.2)\n",
      "Requirement already satisfied: tzdata>=2022.7 in /opt/homebrew/lib/python3.11/site-packages (from pandas!=2.1.0,<3.0.0,>=2.0.0->soccerdata) (2024.2)\n",
      "Requirement already satisfied: charset-normalizer<4,>=2 in /opt/homebrew/lib/python3.11/site-packages (from requests<3.0,>=2.23->soccerdata) (3.3.0)\n",
      "Requirement already satisfied: idna<4,>=2.5 in /opt/homebrew/lib/python3.11/site-packages (from requests<3.0,>=2.23->soccerdata) (3.4)\n",
      "Requirement already satisfied: urllib3<3,>=1.21.1 in /opt/homebrew/lib/python3.11/site-packages (from requests<3.0,>=2.23->soccerdata) (1.26.20)\n",
      "Requirement already satisfied: certifi>=2017.4.17 in /opt/homebrew/lib/python3.11/site-packages (from requests<3.0,>=2.23->soccerdata) (2024.8.30)\n",
      "Requirement already satisfied: markdown-it-py>=2.2.0 in /opt/homebrew/lib/python3.11/site-packages (from rich<14.0.0,>=13.0.0->soccerdata) (3.0.0)\n",
      "Requirement already satisfied: pygments<3.0.0,>=2.13.0 in /Users/aaron/Library/Python/3.11/lib/python/site-packages (from rich<14.0.0,>=13.0.0->soccerdata) (2.16.1)\n",
      "Requirement already satisfied: selenium>=4.9.0 in /opt/homebrew/lib/python3.11/site-packages (from undetected-chromedriver<4.0.0,>=3.5.0->soccerdata) (4.25.0)\n",
      "Requirement already satisfied: websockets in /opt/homebrew/lib/python3.11/site-packages (from undetected-chromedriver<4.0.0,>=3.5.0->soccerdata) (10.4)\n",
      "Requirement already satisfied: mdurl~=0.1 in /opt/homebrew/lib/python3.11/site-packages (from markdown-it-py>=2.2.0->rich<14.0.0,>=13.0.0->soccerdata) (0.1.2)\n",
      "Requirement already satisfied: trio~=0.17 in /opt/homebrew/lib/python3.11/site-packages (from selenium>=4.9.0->undetected-chromedriver<4.0.0,>=3.5.0->soccerdata) (0.26.2)\n",
      "Requirement already satisfied: trio-websocket~=0.9 in /opt/homebrew/lib/python3.11/site-packages (from selenium>=4.9.0->undetected-chromedriver<4.0.0,>=3.5.0->soccerdata) (0.11.1)\n",
      "Requirement already satisfied: typing_extensions~=4.9 in /opt/homebrew/lib/python3.11/site-packages (from selenium>=4.9.0->undetected-chromedriver<4.0.0,>=3.5.0->soccerdata) (4.12.2)\n",
      "Requirement already satisfied: websocket-client~=1.8 in /opt/homebrew/lib/python3.11/site-packages (from selenium>=4.9.0->undetected-chromedriver<4.0.0,>=3.5.0->soccerdata) (1.8.0)\n",
      "Requirement already satisfied: attrs>=23.2.0 in /opt/homebrew/lib/python3.11/site-packages (from trio~=0.17->selenium>=4.9.0->undetected-chromedriver<4.0.0,>=3.5.0->soccerdata) (24.2.0)\n",
      "Requirement already satisfied: sortedcontainers in /opt/homebrew/lib/python3.11/site-packages (from trio~=0.17->selenium>=4.9.0->undetected-chromedriver<4.0.0,>=3.5.0->soccerdata) (2.4.0)\n",
      "Requirement already satisfied: outcome in /opt/homebrew/lib/python3.11/site-packages (from trio~=0.17->selenium>=4.9.0->undetected-chromedriver<4.0.0,>=3.5.0->soccerdata) (1.3.0.post0)\n",
      "Requirement already satisfied: sniffio>=1.3.0 in /opt/homebrew/lib/python3.11/site-packages (from trio~=0.17->selenium>=4.9.0->undetected-chromedriver<4.0.0,>=3.5.0->soccerdata) (1.3.1)\n",
      "Requirement already satisfied: wsproto>=0.14 in /opt/homebrew/lib/python3.11/site-packages (from trio-websocket~=0.9->selenium>=4.9.0->undetected-chromedriver<4.0.0,>=3.5.0->soccerdata) (1.2.0)\n",
      "Requirement already satisfied: h11<1,>=0.9.0 in /opt/homebrew/lib/python3.11/site-packages (from wsproto>=0.14->trio-websocket~=0.9->selenium>=4.9.0->undetected-chromedriver<4.0.0,>=3.5.0->soccerdata) (0.14.0)\n",
      "\n",
      "\u001b[1m[\u001b[0m\u001b[34;49mnotice\u001b[0m\u001b[1;39;49m]\u001b[0m\u001b[39;49m A new release of pip is available: \u001b[0m\u001b[31;49m24.2\u001b[0m\u001b[39;49m -> \u001b[0m\u001b[32;49m25.0.1\u001b[0m\n",
      "\u001b[1m[\u001b[0m\u001b[34;49mnotice\u001b[0m\u001b[1;39;49m]\u001b[0m\u001b[39;49m To update, run: \u001b[0m\u001b[32;49mpython3.11 -m pip install --upgrade pip\u001b[0m\n",
      "Note: you may need to restart the kernel to use updated packages.\n"
     ]
    },
    {
     "data": {
      "text/html": [
       "<pre style=\"white-space:pre;overflow-x:auto;line-height:normal;font-family:Menlo,'DejaVu Sans Mono',consolas,'Courier New',monospace\"><span style=\"color: #7fbfbf; text-decoration-color: #7fbfbf\">[04/23/25 14:49:24] </span><span style=\"color: #000080; text-decoration-color: #000080\">INFO    </span> Saving cached data to <span style=\"color: #800080; text-decoration-color: #800080\">/Users/aaron/soccerdata/data/</span><span style=\"color: #ff00ff; text-decoration-color: #ff00ff\">FBref</span>                <a href=\"file:///opt/homebrew/lib/python3.11/site-packages/soccerdata/_common.py\" target=\"_blank\"><span style=\"color: #7f7f7f; text-decoration-color: #7f7f7f\">_common.py</span></a><span style=\"color: #7f7f7f; text-decoration-color: #7f7f7f\">:</span><a href=\"file:///opt/homebrew/lib/python3.11/site-packages/soccerdata/_common.py#263\" target=\"_blank\"><span style=\"color: #7f7f7f; text-decoration-color: #7f7f7f\">263</span></a>\n",
       "</pre>\n"
      ],
      "text/plain": [
       "\u001b[2;36m[04/23/25 14:49:24]\u001b[0m\u001b[2;36m \u001b[0m\u001b[34mINFO    \u001b[0m Saving cached data to \u001b[35m/Users/aaron/soccerdata/data/\u001b[0m\u001b[95mFBref\u001b[0m                \u001b]8;id=688111;file:///opt/homebrew/lib/python3.11/site-packages/soccerdata/_common.py\u001b\\\u001b[2m_common.py\u001b[0m\u001b]8;;\u001b\\\u001b[2m:\u001b[0m\u001b]8;id=414744;file:///opt/homebrew/lib/python3.11/site-packages/soccerdata/_common.py#263\u001b\\\u001b[2m263\u001b[0m\u001b]8;;\u001b\\\n"
      ]
     },
     "metadata": {},
     "output_type": "display_data"
    },
    {
     "data": {
      "text/html": [
       "<pre style=\"white-space:pre;overflow-x:auto;line-height:normal;font-family:Menlo,'DejaVu Sans Mono',consolas,'Courier New',monospace\"><span style=\"color: #7fbfbf; text-decoration-color: #7fbfbf\">[04/23/25 14:49:25] </span><span style=\"color: #800000; text-decoration-color: #800000\">WARNING </span> <span style=\"color: #800080; text-decoration-color: #800080\">/opt/homebrew/lib/python3.11/site-packages/soccerdata/</span><span style=\"color: #ff00ff; text-decoration-color: #ff00ff\">fbref.py</span>:<span style=\"color: #008080; text-decoration-color: #008080; font-weight: bold\">165</span>:    <a href=\"file:///opt/homebrew/Cellar/python@3.11/3.11.6_1/Frameworks/Python.framework/Versions/3.11/lib/python3.11/warnings.py\" target=\"_blank\"><span style=\"color: #7f7f7f; text-decoration-color: #7f7f7f\">warnings.py</span></a><span style=\"color: #7f7f7f; text-decoration-color: #7f7f7f\">:</span><a href=\"file:///opt/homebrew/Cellar/python@3.11/3.11.6_1/Frameworks/Python.framework/Versions/3.11/lib/python3.11/warnings.py#109\" target=\"_blank\"><span style=\"color: #7f7f7f; text-decoration-color: #7f7f7f\">109</span></a>\n",
       "<span style=\"color: #7fbfbf; text-decoration-color: #7fbfbf\">                    </span>         FutureWarning: The behavior of DataFrame concatenation with empty or   <span style=\"color: #7f7f7f; text-decoration-color: #7f7f7f\">               </span>\n",
       "<span style=\"color: #7fbfbf; text-decoration-color: #7fbfbf\">                    </span>         all-NA entries is deprecated. In a future version, this will no longer <span style=\"color: #7f7f7f; text-decoration-color: #7f7f7f\">               </span>\n",
       "<span style=\"color: #7fbfbf; text-decoration-color: #7fbfbf\">                    </span>         exclude empty or all-NA columns when determining the result dtypes. To <span style=\"color: #7f7f7f; text-decoration-color: #7f7f7f\">               </span>\n",
       "<span style=\"color: #7fbfbf; text-decoration-color: #7fbfbf\">                    </span>         retain the old behavior, exclude the relevant entries before the       <span style=\"color: #7f7f7f; text-decoration-color: #7f7f7f\">               </span>\n",
       "<span style=\"color: #7fbfbf; text-decoration-color: #7fbfbf\">                    </span>         concat operation.                                                      <span style=\"color: #7f7f7f; text-decoration-color: #7f7f7f\">               </span>\n",
       "<span style=\"color: #7fbfbf; text-decoration-color: #7fbfbf\">                    </span>           <span style=\"color: #800080; text-decoration-color: #800080; font-weight: bold\">pd.concat</span><span style=\"font-weight: bold\">(</span>dfs<span style=\"font-weight: bold\">)</span>                                                       <span style=\"color: #7f7f7f; text-decoration-color: #7f7f7f\">               </span>\n",
       "<span style=\"color: #7fbfbf; text-decoration-color: #7fbfbf\">                    </span>                                                                                <span style=\"color: #7f7f7f; text-decoration-color: #7f7f7f\">               </span>\n",
       "</pre>\n"
      ],
      "text/plain": [
       "\u001b[2;36m[04/23/25 14:49:25]\u001b[0m\u001b[2;36m \u001b[0m\u001b[31mWARNING \u001b[0m \u001b[35m/opt/homebrew/lib/python3.11/site-packages/soccerdata/\u001b[0m\u001b[95mfbref.py\u001b[0m:\u001b[1;36m165\u001b[0m:    \u001b]8;id=495642;file:///opt/homebrew/Cellar/python@3.11/3.11.6_1/Frameworks/Python.framework/Versions/3.11/lib/python3.11/warnings.py\u001b\\\u001b[2mwarnings.py\u001b[0m\u001b]8;;\u001b\\\u001b[2m:\u001b[0m\u001b]8;id=599274;file:///opt/homebrew/Cellar/python@3.11/3.11.6_1/Frameworks/Python.framework/Versions/3.11/lib/python3.11/warnings.py#109\u001b\\\u001b[2m109\u001b[0m\u001b]8;;\u001b\\\n",
       "\u001b[2;36m                    \u001b[0m         FutureWarning: The behavior of DataFrame concatenation with empty or   \u001b[2m               \u001b[0m\n",
       "\u001b[2;36m                    \u001b[0m         all-NA entries is deprecated. In a future version, this will no longer \u001b[2m               \u001b[0m\n",
       "\u001b[2;36m                    \u001b[0m         exclude empty or all-NA columns when determining the result dtypes. To \u001b[2m               \u001b[0m\n",
       "\u001b[2;36m                    \u001b[0m         retain the old behavior, exclude the relevant entries before the       \u001b[2m               \u001b[0m\n",
       "\u001b[2;36m                    \u001b[0m         concat operation.                                                      \u001b[2m               \u001b[0m\n",
       "\u001b[2;36m                    \u001b[0m           \u001b[1;35mpd.concat\u001b[0m\u001b[1m(\u001b[0mdfs\u001b[1m)\u001b[0m                                                       \u001b[2m               \u001b[0m\n",
       "\u001b[2;36m                    \u001b[0m                                                                                \u001b[2m               \u001b[0m\n"
      ]
     },
     "metadata": {},
     "output_type": "display_data"
    },
    {
     "data": {
      "text/html": [
       "<pre style=\"white-space:pre;overflow-x:auto;line-height:normal;font-family:Menlo,'DejaVu Sans Mono',consolas,'Courier New',monospace\"><span style=\"color: #7fbfbf; text-decoration-color: #7fbfbf\">[04/23/25 14:49:31] </span><span style=\"color: #800000; text-decoration-color: #800000\">WARNING </span> <span style=\"color: #800080; text-decoration-color: #800080\">/opt/homebrew/lib/python3.11/site-packages/soccerdata/</span><span style=\"color: #ff00ff; text-decoration-color: #ff00ff\">fbref.py</span>:<span style=\"color: #008080; text-decoration-color: #008080; font-weight: bold\">165</span>:    <a href=\"file:///opt/homebrew/Cellar/python@3.11/3.11.6_1/Frameworks/Python.framework/Versions/3.11/lib/python3.11/warnings.py\" target=\"_blank\"><span style=\"color: #7f7f7f; text-decoration-color: #7f7f7f\">warnings.py</span></a><span style=\"color: #7f7f7f; text-decoration-color: #7f7f7f\">:</span><a href=\"file:///opt/homebrew/Cellar/python@3.11/3.11.6_1/Frameworks/Python.framework/Versions/3.11/lib/python3.11/warnings.py#109\" target=\"_blank\"><span style=\"color: #7f7f7f; text-decoration-color: #7f7f7f\">109</span></a>\n",
       "<span style=\"color: #7fbfbf; text-decoration-color: #7fbfbf\">                    </span>         FutureWarning: The behavior of DataFrame concatenation with empty or   <span style=\"color: #7f7f7f; text-decoration-color: #7f7f7f\">               </span>\n",
       "<span style=\"color: #7fbfbf; text-decoration-color: #7fbfbf\">                    </span>         all-NA entries is deprecated. In a future version, this will no longer <span style=\"color: #7f7f7f; text-decoration-color: #7f7f7f\">               </span>\n",
       "<span style=\"color: #7fbfbf; text-decoration-color: #7fbfbf\">                    </span>         exclude empty or all-NA columns when determining the result dtypes. To <span style=\"color: #7f7f7f; text-decoration-color: #7f7f7f\">               </span>\n",
       "<span style=\"color: #7fbfbf; text-decoration-color: #7fbfbf\">                    </span>         retain the old behavior, exclude the relevant entries before the       <span style=\"color: #7f7f7f; text-decoration-color: #7f7f7f\">               </span>\n",
       "<span style=\"color: #7fbfbf; text-decoration-color: #7fbfbf\">                    </span>         concat operation.                                                      <span style=\"color: #7f7f7f; text-decoration-color: #7f7f7f\">               </span>\n",
       "<span style=\"color: #7fbfbf; text-decoration-color: #7fbfbf\">                    </span>           <span style=\"color: #800080; text-decoration-color: #800080; font-weight: bold\">pd.concat</span><span style=\"font-weight: bold\">(</span>dfs<span style=\"font-weight: bold\">)</span>                                                       <span style=\"color: #7f7f7f; text-decoration-color: #7f7f7f\">               </span>\n",
       "<span style=\"color: #7fbfbf; text-decoration-color: #7fbfbf\">                    </span>                                                                                <span style=\"color: #7f7f7f; text-decoration-color: #7f7f7f\">               </span>\n",
       "</pre>\n"
      ],
      "text/plain": [
       "\u001b[2;36m[04/23/25 14:49:31]\u001b[0m\u001b[2;36m \u001b[0m\u001b[31mWARNING \u001b[0m \u001b[35m/opt/homebrew/lib/python3.11/site-packages/soccerdata/\u001b[0m\u001b[95mfbref.py\u001b[0m:\u001b[1;36m165\u001b[0m:    \u001b]8;id=809113;file:///opt/homebrew/Cellar/python@3.11/3.11.6_1/Frameworks/Python.framework/Versions/3.11/lib/python3.11/warnings.py\u001b\\\u001b[2mwarnings.py\u001b[0m\u001b]8;;\u001b\\\u001b[2m:\u001b[0m\u001b]8;id=594878;file:///opt/homebrew/Cellar/python@3.11/3.11.6_1/Frameworks/Python.framework/Versions/3.11/lib/python3.11/warnings.py#109\u001b\\\u001b[2m109\u001b[0m\u001b]8;;\u001b\\\n",
       "\u001b[2;36m                    \u001b[0m         FutureWarning: The behavior of DataFrame concatenation with empty or   \u001b[2m               \u001b[0m\n",
       "\u001b[2;36m                    \u001b[0m         all-NA entries is deprecated. In a future version, this will no longer \u001b[2m               \u001b[0m\n",
       "\u001b[2;36m                    \u001b[0m         exclude empty or all-NA columns when determining the result dtypes. To \u001b[2m               \u001b[0m\n",
       "\u001b[2;36m                    \u001b[0m         retain the old behavior, exclude the relevant entries before the       \u001b[2m               \u001b[0m\n",
       "\u001b[2;36m                    \u001b[0m         concat operation.                                                      \u001b[2m               \u001b[0m\n",
       "\u001b[2;36m                    \u001b[0m           \u001b[1;35mpd.concat\u001b[0m\u001b[1m(\u001b[0mdfs\u001b[1m)\u001b[0m                                                       \u001b[2m               \u001b[0m\n",
       "\u001b[2;36m                    \u001b[0m                                                                                \u001b[2m               \u001b[0m\n"
      ]
     },
     "metadata": {},
     "output_type": "display_data"
    },
    {
     "name": "stdout",
     "output_type": "stream",
     "text": [
      "                                                nation    pos     age  born  \\\n",
      "                                                                              \n",
      "league             season team    player                                      \n",
      "ENG-Premier League 2425   Arsenal Ben White        ENG     DF  27-197  1997   \n",
      "                                  Bukayo Saka      ENG  FW,MF  23-230  2001   \n",
      "                                  David Raya       ESP     GK  29-220  1995   \n",
      "                                  Declan Rice      ENG     MF  26-099  1999   \n",
      "                                  Ethan Nwaneri    ENG  FW,MF  18-033  2007   \n",
      "\n",
      "                                                Playing Time               \\\n",
      "                                                          MP Starts   Min   \n",
      "league             season team    player                                    \n",
      "ENG-Premier League 2425   Arsenal Ben White               13      9   856   \n",
      "                                  Bukayo Saka             20     17  1423   \n",
      "                                  David Raya              33     33  2970   \n",
      "                                  Declan Rice             31     29  2482   \n",
      "                                  Ethan Nwaneri           23     10   811   \n",
      "\n",
      "                                                      Performance      ...  \\\n",
      "                                                  90s         Gls Ast  ...   \n",
      "league             season team    player                               ...   \n",
      "ENG-Premier League 2425   Arsenal Ben White       9.5           0   1  ...   \n",
      "                                  Bukayo Saka    15.8           6  10  ...   \n",
      "                                  David Raya     33.0           0   0  ...   \n",
      "                                  Declan Rice    27.6           2   7  ...   \n",
      "                                  Ethan Nwaneri   9.0           4   2  ...   \n",
      "\n",
      "                                                Per 90 Minutes              \\\n",
      "                                                           Gls   Ast   G+A   \n",
      "league             season team    player                                     \n",
      "ENG-Premier League 2425   Arsenal Ben White                0.0  0.11  0.11   \n",
      "                                  Bukayo Saka             0.38  0.63  1.01   \n",
      "                                  David Raya               0.0   0.0   0.0   \n",
      "                                  Declan Rice             0.07  0.25  0.33   \n",
      "                                  Ethan Nwaneri           0.44  0.22  0.67   \n",
      "\n",
      "                                                                          \\\n",
      "                                                 G-PK G+A-PK    xG   xAG   \n",
      "league             season team    player                                   \n",
      "ENG-Premier League 2425   Arsenal Ben White       0.0   0.11  0.04  0.09   \n",
      "                                  Bukayo Saka    0.32   0.95  0.36  0.42   \n",
      "                                  David Raya      0.0    0.0   0.0   0.0   \n",
      "                                  Declan Rice    0.07   0.33  0.09  0.23   \n",
      "                                  Ethan Nwaneri  0.44   0.67  0.13  0.11   \n",
      "\n",
      "                                                                       \n",
      "                                                xG+xAG  npxG npxG+xAG  \n",
      "league             season team    player                               \n",
      "ENG-Premier League 2425   Arsenal Ben White       0.13  0.04     0.13  \n",
      "                                  Bukayo Saka     0.79  0.31     0.74  \n",
      "                                  David Raya       0.0   0.0      0.0  \n",
      "                                  Declan Rice     0.32  0.09     0.32  \n",
      "                                  Ethan Nwaneri   0.24  0.13     0.24  \n",
      "\n",
      "[5 rows x 33 columns]\n"
     ]
    }
   ],
   "source": [
    "import soccerdata as sd\n",
    "\n",
    "# Initialize the FBref scraper for the Premier League 2024-2025 season\n",
    "fbref = sd.FBref(leagues=\"ENG-Premier League\", seasons=2024)\n",
    "\n",
    "# Retrieve match statistics\n",
    "match_stats = fbref.read_team_match_stats(stat_type=\"schedule\", team=\"Liverpool\")\n",
    "\n",
    "# Retrieve player statistics\n",
    "player_stats = fbref.read_player_season_stats(stat_type=\"standard\")\n",
    "\n",
    "print(match_stats.head())\n"
   ]
  }
 ],
 "metadata": {
  "kernelspec": {
   "display_name": "Python 3",
   "language": "python",
   "name": "python3"
  },
  "language_info": {
   "codemirror_mode": {
    "name": "ipython",
    "version": 3
   },
   "file_extension": ".py",
   "mimetype": "text/x-python",
   "name": "python",
   "nbconvert_exporter": "python",
   "pygments_lexer": "ipython3",
   "version": "3.11.6"
  }
 },
 "nbformat": 4,
 "nbformat_minor": 5
}
