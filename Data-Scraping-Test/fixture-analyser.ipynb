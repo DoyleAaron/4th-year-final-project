{
 "cells": [
  {
   "cell_type": "markdown",
   "metadata": {},
   "source": [
    "## Fixture Difficulty Rating\n",
    "- The aim for this  is to be able to give the user a category of how difficult their next game or next run of games is going to be for a player\n",
    "- This is going to be useful because fixtures are key for players in fantasy football\n",
    "- I was orignally going to try and use a machine learning model for this but I decided against it as I believe that making a formula that takes in teams form and league position will be more effective as it is a definitive thing.\n"
   ]
  },
  {
   "cell_type": "code",
   "execution_count": 1,
   "metadata": {},
   "outputs": [],
   "source": [
    "import requests\n",
    "\n",
    "url = 'https://fbref.com/en/comps/9/Premier-League-Stats'\n",
    "\n",
    "headers = {\n",
    "    \"User-Agent\": \"Mozilla/5.0 (Windows NT 10.0; Win64; x64) AppleWebKit/537.36 (KHTML, like Gecko) Chrome/115.0.0.0 Safari/537.36\",\n",
    "    \"Accept-Language\": \"en-US,en;q=0.9\",\n",
    "}\n",
    "\n",
    "response = requests.get(url, headers=headers)\n",
    "\n",
    "with open(\"table-data.html\", \"w\", encoding=\"utf-8\") as file:\n",
    "    file.write(response.text)\n",
    "\n",
    "# This is extracting the raw html from the page into a local HTML file"
   ]
  },
  {
   "cell_type": "code",
   "execution_count": 4,
   "metadata": {},
   "outputs": [
    {
     "name": "stdout",
     "output_type": "stream",
     "text": [
      "Found <table id='results2024-202591_overall'>.\n",
      "Preview of <table> content:\n",
      " <table class=\"stats_table sortable min_width force_mobilize\" data-cols-to-freeze=\",2\" id=\"results2024-202591_overall\">\n",
      " <caption>\n",
      "  Premier League Table\n",
      " </caption>\n",
      " <colgroup>\n",
      "  <col/>\n",
      "  <col/>\n",
      "  <col/>\n",
      "  <col/>\n",
      "  <col/>\n",
      "  <col/>\n",
      "  <col/>\n",
      "  <col/>\n",
      "  <col/>\n",
      "  <col/>\n",
      "  <col/>\n",
      "  <col/>\n",
      "  <col/>\n",
      "  <col/>\n",
      "  <col/>\n",
      "  <col/>\n",
      "  <col/>\n",
      "  <col/>\n",
      "  <col/>\n",
      "  <col/>\n",
      " </colgroup>\n",
      " <thead>\n",
      "  <tr>\n",
      "   <th aria-label=\"Rank\" class=\"poptip sort_default_asc center\" data-stat=\"rank\" data-tip=\"&lt;strong&gt;Rank&lt;/\n",
      "Player stats saved to 'table.csv'\n"
     ]
    },
    {
     "name": "stderr",
     "output_type": "stream",
     "text": [
      "/var/folders/jp/fbwfkpy50vs_7m6dlkzl468h0000gn/T/ipykernel_57049/4105877364.py:21: FutureWarning: Passing literal html to 'read_html' is deprecated and will be removed in a future version. To read from a literal string, wrap it in a 'StringIO' object.\n",
      "  df = pd.read_html(str(table))[0]\n"
     ]
    }
   ],
   "source": [
    "from bs4 import BeautifulSoup\n",
    "import pandas as pd\n",
    "\n",
    "# Path to your saved HTML file\n",
    "html_file = \"table-data.html\"\n",
    "\n",
    "# Load the HTML file with BeautifulSoup\n",
    "with open(html_file, \"r\", encoding=\"utf-8\") as file:\n",
    "    soup = BeautifulSoup(file, \"lxml\")  # You can also try 'lxml' if needed\n",
    "\n",
    "# Locate the <table> with id 'stats_defense'\n",
    "table = soup.find(\"table\", {\"id\": \"results2024-202591_overall\"})\n",
    "\n",
    "if table:\n",
    "    print(\"Found <table id='results2024-202591_overall'>.\")\n",
    "    # Print the first 500 characters of the table for inspection\n",
    "    print(\"Preview of <table> content:\\n\", table.prettify()[:500])\n",
    "\n",
    "    # Parse the table using pandas\n",
    "    try:\n",
    "        df = pd.read_html(str(table))[0]\n",
    "        # Save the DataFrame to a CSV file\n",
    "        df.to_csv(\"table.csv\", index=False)\n",
    "        print(\"Player stats saved to 'table.csv'\")\n",
    "    except ValueError as e:\n",
    "        print(f\"Error parsing the table: {e}\")\n",
    "else:\n",
    "    print(\"No <table> with id 'results2024-202591_overall' found.\")\n",
    "\n",
    "# This code was obtained from ChatGPT and it is used to extract tables from HTML files using BeautifulSoup and pandas.\n"
   ]
  },
  {
   "cell_type": "markdown",
   "metadata": {},
   "source": [
    "I am following the same format that I have used for my previous models to obtain the data through a web scraper.\n",
    "\n",
    "I found the data that I needed to obtain by going through the fbref website which I use for all of my data, I found the table that I needed and extracted the HTML for that page, once I found the table ID in the raw html of the league table that I needed I was able to extract that data into a csv so I can then use this for my new dataset for this model."
   ]
  },
  {
   "cell_type": "code",
   "execution_count": 13,
   "metadata": {},
   "outputs": [
    {
     "name": "stdout",
     "output_type": "stream",
     "text": [
      "   Rk              Squad  MP   W   D  L  GF  GA  GD  Pts  Pts/MP    xG   xGA  \\\n",
      "0   1          Liverpool  29  21   7  1  69  27  42   70    2.41  65.0  25.1   \n",
      "1   2            Arsenal  29  16  10  3  53  24  29   58    2.00  44.5  24.7   \n",
      "2   3  Nottingham Forest  29  16   6  7  49  35  14   54    1.86  36.5  34.0   \n",
      "3   4            Chelsea  29  14   7  8  53  37  16   49    1.69  55.9  39.5   \n",
      "4   5    Manchester City  29  14   6  9  55  40  15   48    1.66  51.4  39.4   \n",
      "\n",
      "    xGD  xGD/90     Last 5  Attendance      Top Team Scorer      Goalkeeper  \\\n",
      "0  39.8    1.37  W D W W W       60300   Mohamed Salah - 27         Alisson   \n",
      "1  19.8    0.68  W L D D W       60277      Kai Havertz - 9      David Raya   \n",
      "2   2.5    0.09  L L D W W       30080      Chris Wood - 18       Matz Sels   \n",
      "3  16.4    0.57  L L W W L       39610     Cole Palmer - 14  Robert Sánchez   \n",
      "4  12.0    0.41  W L W L D       52897  Erling Haaland - 21         Ederson   \n",
      "\n",
      "   Notes  \n",
      "0    NaN  \n",
      "1    NaN  \n",
      "2    NaN  \n",
      "3    NaN  \n",
      "4    NaN  \n"
     ]
    }
   ],
   "source": [
    "import pandas as pd\n",
    "import numpy as np\n",
    "import sklearn\n",
    "\n",
    "df = pd.read_csv('table.csv')\n",
    "\n",
    "print(df.head())"
   ]
  },
  {
   "cell_type": "markdown",
   "metadata": {},
   "source": [
    "Here I'm just reading in the new csv that I extracted earlier on in the notebook."
   ]
  },
  {
   "cell_type": "code",
   "execution_count": 14,
   "metadata": {},
   "outputs": [],
   "source": [
    "df.columns = df.columns.str.strip() # ChatGPT code to remove whitespace from column names\n",
    "df = df.drop(['Attendance', 'Notes', 'Top Team Scorer', 'Goalkeeper', 'Pts/MP', 'xG', 'xGA', 'xGD', 'xGD/90'], axis=1)\n",
    "\n",
    "df.to_csv('filtered_table.csv', index=False)"
   ]
  },
  {
   "cell_type": "markdown",
   "metadata": {},
   "source": [
    "Here I'm just removing whitespace from the column headers and then dropping the unnecessary columns and saving the results to a csv file."
   ]
  },
  {
   "cell_type": "markdown",
   "metadata": {},
   "source": [
    "My plan for this is to use their current league position and then their form to build this formula. \n",
    "\n",
    "The way I want to incorporate the recent form into account is by getting a total based off of the last 5 results so it will be the same as the points system in real life:\n",
    "    - 3 points for a win\n",
    "    - 1 point for a draw\n",
    "    - 0 points for a loss\n",
    "\n",
    "When I have this as a column for each team I can then do a check with their current league position added to their form points and then the difference of that score for both teams will indicate how easy or hard the fixture is."
   ]
  },
  {
   "cell_type": "code",
   "execution_count": 15,
   "metadata": {},
   "outputs": [
    {
     "name": "stdout",
     "output_type": "stream",
     "text": [
      "    Rk  NewRank              Squad\n",
      "0    1       20          Liverpool\n",
      "1    2       19            Arsenal\n",
      "2    3       18  Nottingham Forest\n",
      "3    4       17            Chelsea\n",
      "4    5       16    Manchester City\n",
      "5    6       15   Newcastle United\n",
      "6    7       14           Brighton\n",
      "7    8       13             Fulham\n",
      "8    9       12        Aston Villa\n",
      "9   10       11        Bournemouth\n",
      "10  11       10          Brentford\n",
      "11  12        9     Crystal Palace\n",
      "12  13        8  Manchester United\n",
      "13  14        7          Tottenham\n",
      "14  15        6            Everton\n",
      "15  16        5           West Ham\n",
      "16  17        4             Wolves\n",
      "17  18        3       Ipswich Town\n",
      "18  19        2     Leicester City\n",
      "19  20        1        Southampton\n"
     ]
    }
   ],
   "source": [
    "df = pd.read_csv('filtered_table.csv')\n",
    "\n",
    "df[\"NewRank\"] = 21 - df[\"Rk\"]\n",
    "\n",
    "print(df[[\"Rk\", \"NewRank\", \"Squad\"]])\n",
    "\n"
   ]
  },
  {
   "cell_type": "markdown",
   "metadata": {},
   "source": [
    "I am doing this because I want the calculation for difficulty to work that the higher the score the tougher the team so for this 20 is top of the league and 1 would be the bottom\n",
    "\n",
    "Now the next step is to create the column for the recent form."
   ]
  },
  {
   "cell_type": "code",
   "execution_count": 16,
   "metadata": {},
   "outputs": [],
   "source": [
    "points_map = {\n",
    "    \"W\": 3,\n",
    "    \"D\": 1,\n",
    "    \"L\": 0\n",
    "}\n",
    "\n",
    "df[\"Form_Rating\"] = df[\"Last 5\"].apply(\n",
    "    lambda x: sum(points_map.get(result, 0) for result in x.split())\n",
    ")"
   ]
  },
  {
   "cell_type": "markdown",
   "metadata": {},
   "source": [
    "I got ChatGPT to help me with this part as I was having trouble iterating thrugh all of them correctly and efficiently, now this field has an integer value for the recent form of the team.\n",
    "\n",
    "I am going to have 3 categories for this, with easy, even and tough fixture."
   ]
  },
  {
   "cell_type": "code",
   "execution_count": 29,
   "metadata": {},
   "outputs": [
    {
     "name": "stdout",
     "output_type": "stream",
     "text": [
      "Southampton total: 1\n",
      "Leicester City total: 2\n",
      "Difficulty Category: Even\n"
     ]
    }
   ],
   "source": [
    "team_a_name = \"Southampton\"\n",
    "team_b_name = \"Leicester City\"\n",
    "difficultycategory = \"\"\n",
    "\n",
    "\n",
    "def head_to_head(team_a_name, team_b_name, difficultycategory):\n",
    "    team_a = df[df[\"Squad\"] == team_a_name]\n",
    "    team_b = df[df[\"Squad\"] == team_b_name]\n",
    "\n",
    "    total_a = team_a[\"NewRank\"].values[0] + team_a[\"Form_Rating\"].values[0]\n",
    "    total_b = team_b[\"NewRank\"].values[0] + team_b[\"Form_Rating\"].values[0]\n",
    "\n",
    "    difference = abs(total_a - total_b)\n",
    "\n",
    "    if difference <10:\n",
    "        difficultycategory = \"Even\"\n",
    "    \n",
    "    elif difference < 20:\n",
    "        difficultycategory = \"Medium\"\n",
    "\n",
    "    else:\n",
    "        difficultycategory = \"Hard\"\n",
    "\n",
    "    return total_a, total_b, difficultycategory\n",
    "\n",
    "\n",
    "total_a, total_b, difficultycategory = head_to_head(team_a_name, team_b_name, difficultycategory)\n",
    "print(f\"{team_a_name} total: {total_a}\")\n",
    "print(f\"{team_b_name} total: {total_b}\") \n",
    "print(f\"Difficulty Category: {difficultycategory}\")"
   ]
  },
  {
   "cell_type": "markdown",
   "metadata": {},
   "source": [
    "This function now takes into account a teams recent form and their league position to be able to give the user an idea of how difficult their next fixture is going to be."
   ]
  }
 ],
 "metadata": {
  "kernelspec": {
   "display_name": "Python 3",
   "language": "python",
   "name": "python3"
  },
  "language_info": {
   "codemirror_mode": {
    "name": "ipython",
    "version": 3
   },
   "file_extension": ".py",
   "mimetype": "text/x-python",
   "name": "python",
   "nbconvert_exporter": "python",
   "pygments_lexer": "ipython3",
   "version": "3.11.6"
  }
 },
 "nbformat": 4,
 "nbformat_minor": 2
}
