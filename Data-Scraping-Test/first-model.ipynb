{
 "cells": [
  {
   "cell_type": "code",
   "execution_count": null,
   "metadata": {},
   "outputs": [
    {
     "name": "stdout",
     "output_type": "stream",
     "text": [
      "HTML page saved to 'fbref_page.html'\n"
     ]
    }
   ],
   "source": [
    "import requests\n",
    "\n",
    "url = 'https://fbref.com/en/comps/9/stats/Premier-League-Stats'\n",
    "\n",
    "headers = {\n",
    "    \"User-Agent\": \"Mozilla/5.0 (Windows NT 10.0; Win64; x64) AppleWebKit/537.36 (KHTML, like Gecko) Chrome/115.0.0.0 Safari/537.36\",\n",
    "    \"Accept-Language\": \"en-US,en;q=0.9\",\n",
    "}\n",
    "\n",
    "response = requests.get(url, headers=headers)\n",
    "\n",
    "with open(\"fbref_page.html\", \"w\", encoding=\"utf-8\") as file:\n",
    "    file.write(response.text)\n",
    "\n",
    "# This is extracting the raw html from the page into a local HTML file\n"
   ]
  },
  {
   "cell_type": "code",
   "execution_count": 45,
   "metadata": {},
   "outputs": [
    {
     "name": "stdout",
     "output_type": "stream",
     "text": [
      "Found <table id='stats_standard'>.\n",
      "Preview of <table> content:\n",
      " <table class=\"min_width sortable stats_table min_width shade_zero\" data-cols-to-freeze=\",2\" data-non-qual=\"1\" data-qual-label=\"Hide non-qualifiers for rate stats\" data-qual-text=\"\" id=\"stats_standard\">\n",
      " <caption>\n",
      "  Player Standard Stats\n",
      "  <span style=\"color: #666; font-size:smaller\">\n",
      "   2024-2025 Premier League\n",
      "  </span>\n",
      "  Table\n",
      " </caption>\n",
      " <colgroup>\n",
      "  <col/>\n",
      "  <col/>\n",
      "  <col/>\n",
      "  <col/>\n",
      "  <col/>\n",
      "  <col/>\n",
      "  <col/>\n",
      "  <col/>\n",
      "  <col/>\n",
      "  <col/>\n",
      "  <col/>\n",
      "  <col/>\n",
      "  <col/>\n",
      "  <col/>\n",
      "  <col/>\n",
      "  <col/>\n",
      " \n",
      "Player stats saved to 'prem_player_stats.csv'\n"
     ]
    },
    {
     "name": "stderr",
     "output_type": "stream",
     "text": [
      "/var/folders/jp/fbwfkpy50vs_7m6dlkzl468h0000gn/T/ipykernel_63832/2486324339.py:21: FutureWarning: Passing literal html to 'read_html' is deprecated and will be removed in a future version. To read from a literal string, wrap it in a 'StringIO' object.\n",
      "  df = pd.read_html(str(table))[0]\n"
     ]
    }
   ],
   "source": [
    "from bs4 import BeautifulSoup\n",
    "import pandas as pd\n",
    "\n",
    "# Path to your saved HTML file\n",
    "html_file = \"fbref_page.html\"\n",
    "\n",
    "# Load the HTML file with BeautifulSoup\n",
    "with open(html_file, \"r\", encoding=\"utf-8\") as file:\n",
    "    soup = BeautifulSoup(file, \"lxml\")  # You can also try 'lxml' if needed\n",
    "\n",
    "# Locate the <table> with id 'stats_standard'\n",
    "table = soup.find(\"table\", {\"id\": \"stats_standard\"})\n",
    "\n",
    "if table:\n",
    "    print(\"Found <table id='stats_standard'>.\")\n",
    "    # Print the first 500 characters of the table for inspection\n",
    "    print(\"Preview of <table> content:\\n\", table.prettify()[:500])\n",
    "\n",
    "    # Parse the table using pandas\n",
    "    try:\n",
    "        df = pd.read_html(str(table))[0]\n",
    "        # Save the DataFrame to a CSV file\n",
    "        df.to_csv(\"prem_player_stats.csv\", index=False)\n",
    "        print(\"Player stats saved to 'prem_player_stats.csv'\")\n",
    "    except ValueError as e:\n",
    "        print(f\"Error parsing the table: {e}\")\n",
    "else:\n",
    "    print(\"No <table> with id 'stats_standard' found.\")\n",
    "\n",
    "# This code was obtained from ChatGPT and it is used to extract tables from HTML files using BeautifulSoup and pandas.\n"
   ]
  },
  {
   "cell_type": "markdown",
   "metadata": {},
   "source": [
    "# Explanation Of Code\n",
    "\n",
    "I had a lot of difficulty extracting this table from the initial code that was on the site, my original plan was to take it directly from the site but my code couldn't pick up the table that I needed to extract for my statistics. So then I tried extracting it to a local HTML file and this is where I started to find out more. I then began trying to extract my desired table from the HTML file that I had created but once again this was unable to pick up the table that I needed, I began reading through the raw HTML code of the site near where my desired table was when I eventually spotted this sign '<--' 2 lines above the table. This got me wondering as I recognised it as a comment symbol and I googled it and realised that comments aren't picked up in the search method I was using so I deleted this line in the local HTML file and ran my code again and the data extracted into my CSV so that I can pre proccess it and begin to build my model."
   ]
  }
 ],
 "metadata": {
  "kernelspec": {
   "display_name": "Python 3",
   "language": "python",
   "name": "python3"
  },
  "language_info": {
   "codemirror_mode": {
    "name": "ipython",
    "version": 3
   },
   "file_extension": ".py",
   "mimetype": "text/x-python",
   "name": "python",
   "nbconvert_exporter": "python",
   "pygments_lexer": "ipython3",
   "version": "3.11.6"
  }
 },
 "nbformat": 4,
 "nbformat_minor": 2
}
