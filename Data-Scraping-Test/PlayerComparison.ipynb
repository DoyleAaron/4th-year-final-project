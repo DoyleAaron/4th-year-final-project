{
 "cells": [
  {
   "cell_type": "markdown",
   "metadata": {},
   "source": [
    "## Player Comparison Model Using Neural Networks\n",
    "\n",
    "- This is the first iteration to see how well this is going to work for the data that I have from previous and current seasons\n",
    "- I am planning to base this off of a few different fields depending on the position. Currently I'm not too sure if I will have to do a model depending on the position of the player as different stats matter more for different positions"
   ]
  },
  {
   "cell_type": "code",
   "execution_count": 5,
   "metadata": {},
   "outputs": [
    {
     "name": "stdout",
     "output_type": "stream",
     "text": [
      "  Rk               Player   Nation    Pos           Squad Age  Born  MP  \\\n",
      "0  1  Patrick van Aanholt   nl NED     DF  Crystal Palace  26  1990  28   \n",
      "1  2       Rolando Aarons  eng ENG  MF,FW   Newcastle Utd  21  1995   4   \n",
      "2  3        Tammy Abraham  eng ENG     FW    Swansea City  19  1997  31   \n",
      "3  4         Charlie Adam  sct SCO     MF      Stoke City  31  1985  11   \n",
      "4  5               Adrián   es ESP     GK        West Ham  30  1987  19   \n",
      "\n",
      "  Starts   Min  ... Ast.1 G+A.1 G-PK.1 G+A-PK  xG.1 xAG.1 xG+xAG npxG.1  \\\n",
      "0     25  2184  ...  0.04  0.25   0.21   0.25  0.13  0.09   0.21   0.13   \n",
      "1      1   139  ...  0.00  0.00   0.00   0.00  0.04  0.00   0.04   0.04   \n",
      "2     15  1726  ...  0.05  0.31   0.26   0.31  0.35  0.08   0.44   0.35   \n",
      "3      5   411  ...  0.00  0.00   0.00   0.00  0.36  0.27   0.63   0.19   \n",
      "4     19  1710  ...  0.00  0.00   0.00   0.00  0.00  0.00   0.00   0.00   \n",
      "\n",
      "  npxG+xAG.1  Matches  \n",
      "0       0.21  Matches  \n",
      "1       0.04  Matches  \n",
      "2       0.44  Matches  \n",
      "3       0.46  Matches  \n",
      "4       0.00  Matches  \n",
      "\n",
      "[5 rows x 37 columns]\n"
     ]
    }
   ],
   "source": [
    "# The first step is combining the previous seasons data so I can train the model based off of a singular csv file.\n",
    "\n",
    "import pandas as pd\n",
    "import numpy as np\n",
    "import sklearn\n",
    "\n",
    "# Load the data\n",
    "df = pd.read_csv('Total-Season-Player-Stats.csv')\n",
    "\n",
    "print(df.head())"
   ]
  },
  {
   "cell_type": "code",
   "execution_count": 13,
   "metadata": {},
   "outputs": [],
   "source": [
    "# Load the dataset (replace with your actual file path)\n",
    "df = pd.read_csv('Total-Season-Player-Stats.csv')\n",
    "\n",
    "# Ensure the first column is treated as a string and remove any leading/trailing spaces\n",
    "df.iloc[:, 0] = df.iloc[:, 0].astype(str).str.strip()\n",
    "\n",
    "# Filter out rows starting with 'Rk' (excluding the first row)\n",
    "filtered_df = df.iloc[1:].copy()\n",
    "filtered_df = filtered_df[~filtered_df.iloc[:, 0].str.startswith('Rk', na=False)]\n",
    "\n",
    "# Re-add the first row (index 0) and reset index\n",
    "df = pd.concat([df.iloc[[0]], filtered_df], ignore_index=True)\n",
    "\n",
    "# Save the cleaned data\n",
    "df.to_csv('Total-Season-Player-Stats-Filtered.csv', index=False)"
   ]
  },
  {
   "cell_type": "markdown",
   "metadata": {},
   "source": [
    "This is just to remove some of the unneeded headers that were in the CSV as this CSV file was a combination of the past few years of data. I had ChatGPT partially help with this part as I was unsure why my initial method of doing this wasn't working.\n",
    "\n",
    "<br>\n",
    "\n",
    "I want to try a random forest model for this as I know that they work with smaller datasets and they should be good as it is a binary result."
   ]
  },
  {
   "cell_type": "markdown",
   "metadata": {},
   "source": [
    "The next issue that I am running into for this model is that I don't have a clear target variable, I am thinking to make some sort of formula that will combine and rank the most important stats for defenders, midfielders and attackers. The user will be able to select a position and then this will give them a second dropdown of players where they can select 2 and it will use this formula as the target variable for the model. I have to do different models here as different stats are going to be important for different positions."
   ]
  },
  {
   "cell_type": "code",
   "execution_count": 14,
   "metadata": {},
   "outputs": [
    {
     "name": "stdout",
     "output_type": "stream",
     "text": [
      "    Rk           Player   Nation    Pos            Squad Age  Born  MP Starts  \\\n",
      "2    3    Tammy Abraham  eng ENG     FW     Swansea City  19  1997  31     15   \n",
      "6    7      Benik Afobe   cd COD     FW      Bournemouth  24  1993  17      5   \n",
      "7    8    Sergio Agüero   ar ARG     FW  Manchester City  29  1988  25     22   \n",
      "17  18   Nordin Amrabat   ma MAR     FW          Watford  30  1987   3      3   \n",
      "18  19  Michail Antonio   jm JAM  FW,MF         West Ham  27  1990  21     16   \n",
      "\n",
      "     Min  ... Ast.1 G+A.1 G-PK.1 G+A-PK  xG.1 xAG.1 xG+xAG npxG.1 npxG+xAG.1  \\\n",
      "2   1726  ...  0.05  0.31   0.26   0.31  0.35  0.08   0.44   0.35       0.44   \n",
      "6    611  ...  0.00  0.00   0.00   0.00  0.27  0.02   0.30   0.27       0.30   \n",
      "7   1963  ...  0.28  1.24   0.78   1.05  0.75  0.26   1.00   0.60       0.86   \n",
      "17   198  ...  0.00  0.00   0.00   0.00  0.02  0.06   0.09   0.02       0.09   \n",
      "18  1354  ...  0.07  0.27   0.20   0.27  0.16  0.07   0.23   0.16       0.23   \n",
      "\n",
      "    Matches  \n",
      "2   Matches  \n",
      "6   Matches  \n",
      "7   Matches  \n",
      "17  Matches  \n",
      "18  Matches  \n",
      "\n",
      "[5 rows x 37 columns]\n"
     ]
    }
   ],
   "source": [
    "#  I am going to start by working on the attackers model first. I will filter the data to only include attackers and then I will train the model based off of that data.\n",
    "\n",
    "fw_df = df[df['Pos'].str.startswith(\"FW\", na=False)] # I am doing this as some players have multiple positions but their main one is always listed first so I can just use the first two characters to filter\n",
    "print(fw_df.head())"
   ]
  },
  {
   "cell_type": "markdown",
   "metadata": {},
   "source": [
    "My next step here is to create a formula that I will apply to each player in the dataset, this is because there isn't one specific statistic that I want my model to judge a player by its more of a culmination of a few of them, for example:\n",
    "\n",
    "#### Attackers:\n",
    "1. XG per 90\n",
    "2. Goals per 90\n",
    "3. NPXG + XAG per 90\n",
    "4. Assists per 90\n",
    "\n",
    "#### Midfielders:\n",
    "1. Progressive passes\n",
    "2. XAG per 90\n",
    "3. XG per 90\n",
    "4. Progressive carries\n",
    "\n",
    "#### Defenders:\n",
    "1. Clearances\n",
    "2. NPXG + XAG per 90\n",
    "3. Blocks\n",
    "4. Interceptions\n",
    "<br>\n",
    "\n",
    "For most of these stats we already have the data and it is fairly straight forward, however juding a defenders performances can be tough as they are more nuanced stats, I believe that these are the 4 main ones and I have researched online for what statistics other people use for judging defenders and midfielders from places such as these:\n",
    "https://bleacherreport.com/articles/1722602-which-stats-are-most-important-for-measuring-defenders\n",
    "https://www.backheeled.com/what-stats-are-used-to-evaluate-central-midfielders/#:~:text=Things%20like%20pressures%2C%20tackles%2C%20and,doesn't%20have%20the%20ball.\n",
    "\n",
    "For the defenders statistics I am going to have to pull in a new table of data as the stats that I want to use aren't in the current table, to do this I am going to repeat the process that I used to import the previous seasons data but Instead I am going to just get the defensive actions data. This is being done in old-defender-data.ipynb."
   ]
  }
 ],
 "metadata": {
  "kernelspec": {
   "display_name": "Python 3",
   "language": "python",
   "name": "python3"
  },
  "language_info": {
   "codemirror_mode": {
    "name": "ipython",
    "version": 3
   },
   "file_extension": ".py",
   "mimetype": "text/x-python",
   "name": "python",
   "nbconvert_exporter": "python",
   "pygments_lexer": "ipython3",
   "version": "3.11.6"
  }
 },
 "nbformat": 4,
 "nbformat_minor": 2
}
