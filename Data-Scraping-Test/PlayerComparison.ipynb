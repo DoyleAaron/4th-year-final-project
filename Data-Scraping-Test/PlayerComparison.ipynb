{
 "cells": [
  {
   "cell_type": "markdown",
   "metadata": {},
   "source": [
    "## Player Comparison Model Using Neural Networks\n",
    "\n",
    "- This is the first iteration to see how well this is going to work for the data that I have from previous and current seasons\n",
    "- I am planning to base this off of a few different fields depending on the position. Currently I'm not too sure if I will have to do a model depending on the position of the player as different stats matter more for different positions"
   ]
  },
  {
   "cell_type": "code",
   "execution_count": null,
   "metadata": {},
   "outputs": [],
   "source": [
    "# The first step is combining the previous seasons data so I can train the model based off of a singular csv file.\n",
    "\n",
    "import pandas as pd\n",
    "\n"
   ]
  }
 ],
 "metadata": {
  "kernelspec": {
   "display_name": "Python 3",
   "language": "python",
   "name": "python3"
  },
  "language_info": {
   "name": "python",
   "version": "3.11.6"
  }
 },
 "nbformat": 4,
 "nbformat_minor": 2
}
