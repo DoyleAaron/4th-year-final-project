{
 "cells": [
  {
   "cell_type": "markdown",
   "metadata": {},
   "source": [
    "## Points Predictor\n",
    "- The aim for this model is to be able to predict how many points a player will score based off of their statistics so far this season.\n",
    "- I am planning to use a random forest regressor for this model as I think with the size of my dataset and the prediction I want to make it will be the best fit.\n",
    "- I am planning to incorporate a fixture difficulty feature into this by using a type of label encoding based off of the opposing teams legue position."
   ]
  }
 ],
 "metadata": {
  "language_info": {
   "name": "python"
  }
 },
 "nbformat": 4,
 "nbformat_minor": 2
}
