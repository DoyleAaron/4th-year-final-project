{
 "cells": [
  {
   "cell_type": "code",
   "execution_count": 2,
   "metadata": {},
   "outputs": [],
   "source": [
    "import requests\n",
    "\n",
    "url = 'https://fbref.com/en/comps/9/2023-2024/stats/2023-2024-Premier-League-Stats'\n",
    "\n",
    "headers = {\n",
    "    \"User-Agent\": \"Mozilla/5.0 (Windows NT 10.0; Win64; x64) AppleWebKit/537.36 (KHTML, like Gecko) Chrome/115.0.0.0 Safari/537.36\",\n",
    "    \"Accept-Language\": \"en-US,en;q=0.9\",\n",
    "}\n",
    "\n",
    "response = requests.get(url, headers=headers)\n",
    "\n",
    "with open(\"old-data.html\", \"w\", encoding=\"utf-8\") as file:\n",
    "    file.write(response.text)\n",
    "\n",
    "# This is extracting the raw html from the page into a local HTML file"
   ]
  },
  {
   "cell_type": "code",
   "execution_count": 8,
   "metadata": {},
   "outputs": [
    {
     "name": "stdout",
     "output_type": "stream",
     "text": [
      "Line 931 has been deleted from old-data.html.\n"
     ]
    }
   ],
   "source": [
    "# Path to your saved HTML file\n",
    "html_file = \"old-data.html\"\n",
    "\n",
    "# Read the HTML file\n",
    "with open(html_file, \"r\", encoding=\"utf-8\") as file:\n",
    "    lines = file.readlines()\n",
    "\n",
    "# Specify the line you want to delete (e.g., line number 10)\n",
    "line_to_delete = 930\n",
    "\n",
    "# Remove the specified line\n",
    "if 0 <= line_to_delete < len(lines):\n",
    "    del lines[line_to_delete]\n",
    "\n",
    "# Write the modified content back to the HTML file\n",
    "with open(html_file, \"w\", encoding=\"utf-8\") as file:\n",
    "    file.writelines(lines)\n",
    "\n",
    "print(f\"Line {line_to_delete + 1} has been deleted from {html_file}.\")"
   ]
  },
  {
   "cell_type": "code",
   "execution_count": 9,
   "metadata": {},
   "outputs": [
    {
     "name": "stdout",
     "output_type": "stream",
     "text": [
      "Found <table id='stats_standard'>.\n",
      "Preview of <table> content:\n",
      " <table class=\"min_width sortable stats_table min_width shade_zero\" data-cols-to-freeze=\",2\" data-non-qual=\"1\" data-qual-label=\"Hide non-qualifiers for rate stats\" data-qual-text=\"\" id=\"stats_standard\">\n",
      " <caption>\n",
      "  Player Standard Stats\n",
      "  <span style=\"color: #666; font-size:smaller\">\n",
      "   2023-2024 Premier League\n",
      "  </span>\n",
      "  Table\n",
      " </caption>\n",
      " <colgroup>\n",
      "  <col/>\n",
      "  <col/>\n",
      "  <col/>\n",
      "  <col/>\n",
      "  <col/>\n",
      "  <col/>\n",
      "  <col/>\n",
      "  <col/>\n",
      "  <col/>\n",
      "  <col/>\n",
      "  <col/>\n",
      "  <col/>\n",
      "  <col/>\n",
      "  <col/>\n",
      "  <col/>\n",
      "  <col/>\n",
      " \n",
      "Player stats saved to 'old_prem_player_stats.csv'\n"
     ]
    },
    {
     "name": "stderr",
     "output_type": "stream",
     "text": [
      "/var/folders/jp/fbwfkpy50vs_7m6dlkzl468h0000gn/T/ipykernel_42193/2590306584.py:21: FutureWarning: Passing literal html to 'read_html' is deprecated and will be removed in a future version. To read from a literal string, wrap it in a 'StringIO' object.\n",
      "  df = pd.read_html(str(table))[0]\n"
     ]
    }
   ],
   "source": [
    "from bs4 import BeautifulSoup\n",
    "import pandas as pd\n",
    "\n",
    "# Path to your saved HTML file\n",
    "html_file = \"old-data.html\"\n",
    "\n",
    "# Load the HTML file with BeautifulSoup\n",
    "with open(html_file, \"r\", encoding=\"utf-8\") as file:\n",
    "    soup = BeautifulSoup(file, \"lxml\")  # You can also try 'lxml' if needed\n",
    "\n",
    "# Locate the <table> with id 'stats_standard'\n",
    "table = soup.find(\"table\", {\"id\": \"stats_standard\"})\n",
    "\n",
    "if 